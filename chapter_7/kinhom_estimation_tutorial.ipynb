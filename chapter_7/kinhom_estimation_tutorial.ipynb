{
 "cells": [
  {
   "cell_type": "code",
   "execution_count": 1,
   "metadata": {},
   "outputs": [
    {
     "name": "stderr",
     "output_type": "stream",
     "text": [
      "/Users/gocchini/opt/anaconda3/envs/paper_3/lib/python3.10/site-packages/geopandas/_compat.py:123: UserWarning: The Shapely GEOS version (3.11.1-CAPI-1.17.1) is incompatible with the GEOS version PyGEOS was compiled with (3.10.4-CAPI-1.16.2). Conversions between both will be slow.\n",
      "  warnings.warn(\n",
      "<string>:1: UserWarning: Shapely 2.0 is installed, but because PyGEOS is also installed, GeoPandas will still use PyGEOS by default for now. To force to use and test Shapely 2.0, you have to set the environment variable USE_PYGEOS=0. You can do this before starting the Python process, or in your code before importing geopandas:\n",
      "\n",
      "import os\n",
      "os.environ['USE_PYGEOS'] = '0'\n",
      "import geopandas\n",
      "\n",
      "In a future release, GeoPandas will switch to using Shapely by default. If you are using PyGEOS directly (calling PyGEOS functions on geometries from GeoPandas), this will then stop working and you are encouraged to migrate from PyGEOS to Shapely 2.0 (https://shapely.readthedocs.io/en/latest/migration_pygeos.html).\n"
     ]
    }
   ],
   "source": [
    "import pandas as pd\n",
    "import math\n",
    "from scipy import stats\n",
    "from scipy import spatial\n",
    "import numpy as np\n",
    "import matplotlib.pyplot as plt\n",
    "from pointpats import PointPattern, as_window\n",
    "from pointpats import PoissonPointProcess as csr\n",
    "from pointpats.geometry import (prepare_hull as _prepare_hull, area as _area,\n",
    "    build_best_tree as _build_best_tree,\n",
    "    prepare_hull as _prepare_hull,\n",
    "    TREE_TYPES,\n",
    ")\n",
    "from scipy.spatial import distance\n",
    "from pointpats.ripley import _prepare # very important to prepare data :)"
   ]
  },
  {
   "cell_type": "markdown",
   "metadata": {},
   "source": [
    "![title](https://slideplayer.com/slide/14868061/90/images/52/adjusting+for+inhomogeneity.jpg)"
   ]
  },
  {
   "cell_type": "markdown",
   "metadata": {},
   "source": [
    "![text](https://www.routledgehandbooks.com/assets/9781420082555/graphics/equ3_32.jpg)"
   ]
  },
  {
   "cell_type": "code",
   "execution_count": 15,
   "metadata": {},
   "outputs": [],
   "source": [
    "simulated_companies = pd.read_pickle('/Users/gocchini/Desktop/paper_3/kinhom_work/simuls_df_controls_7.pkl')"
   ]
  },
  {
   "cell_type": "code",
   "execution_count": 16,
   "metadata": {},
   "outputs": [],
   "source": [
    "# since my dataset is badly formatted, need to flatten it before processing. Assuming it is called df:\n",
    "simulated_companies.columns = [['lat', 'long']]\n",
    "def flatten(l):\n",
    "    return [item for sublist in l for item in sublist]\n",
    "simulated_companies[['lat', 'long']] = simulated_companies[['lat', 'long']].apply(flatten)\n",
    "#then go from coords_to_array :)"
   ]
  },
  {
   "cell_type": "code",
   "execution_count": 17,
   "metadata": {},
   "outputs": [
    {
     "data": {
      "text/html": "<div>\n<style scoped>\n    .dataframe tbody tr th:only-of-type {\n        vertical-align: middle;\n    }\n\n    .dataframe tbody tr th {\n        vertical-align: top;\n    }\n\n    .dataframe thead tr th {\n        text-align: left;\n    }\n</style>\n<table border=\"1\" class=\"dataframe\">\n  <thead>\n    <tr>\n      <th></th>\n      <th>lat</th>\n      <th>long</th>\n    </tr>\n  </thead>\n  <tbody>\n    <tr>\n      <th>0</th>\n      <td>[51.471819972612224, 51.36553333217895, 51.506...</td>\n      <td>[0.014580652465213007, -0.2261973925113902, -0...</td>\n    </tr>\n    <tr>\n      <th>1</th>\n      <td>[51.56318321541861, 51.44562745912717, 51.5406...</td>\n      <td>[-0.03842347003684066, -0.11036908963588887, -...</td>\n    </tr>\n    <tr>\n      <th>2</th>\n      <td>[51.52144353984821, 51.52188626631142, 51.5259...</td>\n      <td>[-0.1295955129957982, -0.1332125664487464, -0....</td>\n    </tr>\n    <tr>\n      <th>3</th>\n      <td>[51.61380143560731, 51.58627972082576, 51.5116...</td>\n      <td>[-0.1439252080315696, -0.2649385248806523, -0....</td>\n    </tr>\n    <tr>\n      <th>4</th>\n      <td>[51.48450977484127, 51.6164733547414, 51.50185...</td>\n      <td>[-0.18605750053720077, -0.09112456786144085, -...</td>\n    </tr>\n    <tr>\n      <th>...</th>\n      <td>...</td>\n      <td>...</td>\n    </tr>\n    <tr>\n      <th>3</th>\n      <td>[51.61380143560731, 51.58627972082576, 51.5116...</td>\n      <td>[-0.1439252080315696, -0.2649385248806523, -0....</td>\n    </tr>\n    <tr>\n      <th>4</th>\n      <td>[51.48450977484127, 51.6164733547414, 51.50185...</td>\n      <td>[-0.18605750053720077, -0.09112456786144085, -...</td>\n    </tr>\n    <tr>\n      <th>5</th>\n      <td>[51.60964644238399, 51.35557649123816, 51.5159...</td>\n      <td>[-0.29034719542984344, -0.23727390980469665, -...</td>\n    </tr>\n    <tr>\n      <th>6</th>\n      <td>[51.60331357835404, 51.62290010686051, 51.4674...</td>\n      <td>[-0.06864035780212857, -0.27361673620725596, -...</td>\n    </tr>\n    <tr>\n      <th>7</th>\n      <td>[51.46487886246913, 51.62224220106033, 51.4653...</td>\n      <td>[0.13012119174110937, -0.10457141605645831, -0...</td>\n    </tr>\n  </tbody>\n</table>\n<p>100 rows × 2 columns</p>\n</div>",
      "text/plain": "                                                  lat  \\\n0   [51.471819972612224, 51.36553333217895, 51.506...   \n1   [51.56318321541861, 51.44562745912717, 51.5406...   \n2   [51.52144353984821, 51.52188626631142, 51.5259...   \n3   [51.61380143560731, 51.58627972082576, 51.5116...   \n4   [51.48450977484127, 51.6164733547414, 51.50185...   \n..                                                ...   \n3   [51.61380143560731, 51.58627972082576, 51.5116...   \n4   [51.48450977484127, 51.6164733547414, 51.50185...   \n5   [51.60964644238399, 51.35557649123816, 51.5159...   \n6   [51.60331357835404, 51.62290010686051, 51.4674...   \n7   [51.46487886246913, 51.62224220106033, 51.4653...   \n\n                                                 long  \n0   [0.014580652465213007, -0.2261973925113902, -0...  \n1   [-0.03842347003684066, -0.11036908963588887, -...  \n2   [-0.1295955129957982, -0.1332125664487464, -0....  \n3   [-0.1439252080315696, -0.2649385248806523, -0....  \n4   [-0.18605750053720077, -0.09112456786144085, -...  \n..                                                ...  \n3   [-0.1439252080315696, -0.2649385248806523, -0....  \n4   [-0.18605750053720077, -0.09112456786144085, -...  \n5   [-0.29034719542984344, -0.23727390980469665, -...  \n6   [-0.06864035780212857, -0.27361673620725596, -...  \n7   [0.13012119174110937, -0.10457141605645831, -0...  \n\n[100 rows x 2 columns]"
     },
     "execution_count": 17,
     "metadata": {},
     "output_type": "execute_result"
    }
   ],
   "source": [
    "simulated_companies"
   ]
  },
  {
   "cell_type": "code",
   "execution_count": 18,
   "metadata": {},
   "outputs": [],
   "source": [
    "array_df = coords_to_array(simulated_companies)"
   ]
  },
  {
   "cell_type": "code",
   "execution_count": 13,
   "metadata": {},
   "outputs": [
    {
     "name": "stderr",
     "output_type": "stream",
     "text": [
      "/var/folders/0f/pzhfvnbj63jg3sk3nj099q3w0000gq/T/ipykernel_76665/1182437683.py:2: VisibleDeprecationWarning: Creating an ndarray from ragged nested sequences (which is a list-or-tuple of lists-or-tuples-or ndarrays with different lengths or shapes) is deprecated. If you meant to do this, you must specify 'dtype=object' when creating the ndarray.\n",
      "  df['array'] = df.apply(lambda x: np.array(list(zip(x['lat'], x['long']))), axis = 1)\n"
     ]
    }
   ],
   "source": [
    "def coords_to_array(df): \n",
    "    df['array'] = df.apply(lambda x: np.array(list(zip(x['lat'], x['long']))), axis = 1) \n",
    "    return df\n",
    "    \n",
    "array_df = coords_to_array(simulated_companies)"
   ]
  },
  {
   "cell_type": "code",
   "execution_count": 19,
   "metadata": {},
   "outputs": [
    {
     "data": {
      "text/html": "<div>\n<style scoped>\n    .dataframe tbody tr th:only-of-type {\n        vertical-align: middle;\n    }\n\n    .dataframe tbody tr th {\n        vertical-align: top;\n    }\n\n    .dataframe thead tr th {\n        text-align: left;\n    }\n</style>\n<table border=\"1\" class=\"dataframe\">\n  <thead>\n    <tr>\n      <th></th>\n      <th>lat</th>\n      <th>long</th>\n      <th>array</th>\n    </tr>\n  </thead>\n  <tbody>\n    <tr>\n      <th>0</th>\n      <td>[51.471819972612224, 51.36553333217895, 51.506...</td>\n      <td>[0.014580652465213007, -0.2261973925113902, -0...</td>\n      <td>[[51.471819972612224, 0.014580652465213007], [...</td>\n    </tr>\n    <tr>\n      <th>1</th>\n      <td>[51.56318321541861, 51.44562745912717, 51.5406...</td>\n      <td>[-0.03842347003684066, -0.11036908963588887, -...</td>\n      <td>[[51.56318321541861, -0.03842347003684066], [5...</td>\n    </tr>\n    <tr>\n      <th>2</th>\n      <td>[51.52144353984821, 51.52188626631142, 51.5259...</td>\n      <td>[-0.1295955129957982, -0.1332125664487464, -0....</td>\n      <td>[[51.52144353984821, -0.1295955129957982], [51...</td>\n    </tr>\n    <tr>\n      <th>3</th>\n      <td>[51.61380143560731, 51.58627972082576, 51.5116...</td>\n      <td>[-0.1439252080315696, -0.2649385248806523, -0....</td>\n      <td>[[51.61380143560731, -0.1439252080315696], [51...</td>\n    </tr>\n    <tr>\n      <th>4</th>\n      <td>[51.48450977484127, 51.6164733547414, 51.50185...</td>\n      <td>[-0.18605750053720077, -0.09112456786144085, -...</td>\n      <td>[[51.48450977484127, -0.18605750053720077], [5...</td>\n    </tr>\n  </tbody>\n</table>\n</div>",
      "text/plain": "                                                 lat  \\\n0  [51.471819972612224, 51.36553333217895, 51.506...   \n1  [51.56318321541861, 51.44562745912717, 51.5406...   \n2  [51.52144353984821, 51.52188626631142, 51.5259...   \n3  [51.61380143560731, 51.58627972082576, 51.5116...   \n4  [51.48450977484127, 51.6164733547414, 51.50185...   \n\n                                                long  \\\n0  [0.014580652465213007, -0.2261973925113902, -0...   \n1  [-0.03842347003684066, -0.11036908963588887, -...   \n2  [-0.1295955129957982, -0.1332125664487464, -0....   \n3  [-0.1439252080315696, -0.2649385248806523, -0....   \n4  [-0.18605750053720077, -0.09112456786144085, -...   \n\n                                               array  \n0  [[51.471819972612224, 0.014580652465213007], [...  \n1  [[51.56318321541861, -0.03842347003684066], [5...  \n2  [[51.52144353984821, -0.1295955129957982], [51...  \n3  [[51.61380143560731, -0.1439252080315696], [51...  \n4  [[51.48450977484127, -0.18605750053720077], [5...  "
     },
     "execution_count": 19,
     "metadata": {},
     "output_type": "execute_result"
    }
   ],
   "source": [
    "array_df.head()"
   ]
  },
  {
   "cell_type": "markdown",
   "metadata": {},
   "source": [
    "# Sample controls and cases from simulations"
   ]
  },
  {
   "cell_type": "code",
   "execution_count": 20,
   "metadata": {},
   "outputs": [],
   "source": [
    "list_of_arrays = simulated_companies['array'].values.tolist()\n",
    "sampled_cases = [x[0][np.random.choice(x[0].shape[0], size=5, replace = False), :] for x in list_of_arrays]\n",
    "simulated_companies['sample_cases'] = sampled_cases\n",
    "sampled_controls = [x[0][np.random.choice(x[0].shape[0], size=5, replace = False), :] for x in list_of_arrays]\n",
    "simulated_companies['sample_controls'] = sampled_controls"
   ]
  },
  {
   "cell_type": "code",
   "execution_count": 48,
   "metadata": {},
   "outputs": [
    {
     "data": {
      "text/html": "<div>\n<style scoped>\n    .dataframe tbody tr th:only-of-type {\n        vertical-align: middle;\n    }\n\n    .dataframe tbody tr th {\n        vertical-align: top;\n    }\n\n    .dataframe thead tr th {\n        text-align: left;\n    }\n</style>\n<table border=\"1\" class=\"dataframe\">\n  <thead>\n    <tr>\n      <th></th>\n      <th>lat</th>\n      <th>long</th>\n      <th>array</th>\n      <th>sample_cases</th>\n      <th>sample_controls</th>\n    </tr>\n  </thead>\n  <tbody>\n    <tr>\n      <th>0</th>\n      <td>[51.471819972612224, 51.36553333217895, 51.506...</td>\n      <td>[0.014580652465213007, -0.2261973925113902, -0...</td>\n      <td>[[51.471819972612224, 0.014580652465213007], [...</td>\n      <td>[[51.501567003789006, -0.09347439599380858], [...</td>\n      <td>[[51.46645704923287, -0.03329927466216426], [5...</td>\n    </tr>\n    <tr>\n      <th>1</th>\n      <td>[51.56318321541861, 51.44562745912717, 51.5406...</td>\n      <td>[-0.03842347003684066, -0.11036908963588887, -...</td>\n      <td>[[51.56318321541861, -0.03842347003684066], [5...</td>\n      <td>[[51.51836839554727, -0.16839008219657037], [5...</td>\n      <td>[[51.592835443911525, -0.021267597166912067], ...</td>\n    </tr>\n    <tr>\n      <th>2</th>\n      <td>[51.52144353984821, 51.52188626631142, 51.5259...</td>\n      <td>[-0.1295955129957982, -0.1332125664487464, -0....</td>\n      <td>[[51.52144353984821, -0.1295955129957982], [51...</td>\n      <td>[[51.53568766938471, -0.15296519643099438], [5...</td>\n      <td>[[51.49822775506927, -0.09290674714164365], [5...</td>\n    </tr>\n    <tr>\n      <th>3</th>\n      <td>[51.61380143560731, 51.58627972082576, 51.5116...</td>\n      <td>[-0.1439252080315696, -0.2649385248806523, -0....</td>\n      <td>[[51.61380143560731, -0.1439252080315696], [51...</td>\n      <td>[[51.49946087941606, -0.10727222689368449], [5...</td>\n      <td>[[51.51453752785353, -0.13815414203657206], [5...</td>\n    </tr>\n    <tr>\n      <th>4</th>\n      <td>[51.48450977484127, 51.6164733547414, 51.50185...</td>\n      <td>[-0.18605750053720077, -0.09112456786144085, -...</td>\n      <td>[[51.48450977484127, -0.18605750053720077], [5...</td>\n      <td>[[51.422654933952145, -0.031766708483461414], ...</td>\n      <td>[[51.47142432092705, -0.13986717592734776], [5...</td>\n    </tr>\n    <tr>\n      <th>...</th>\n      <td>...</td>\n      <td>...</td>\n      <td>...</td>\n      <td>...</td>\n      <td>...</td>\n    </tr>\n    <tr>\n      <th>3</th>\n      <td>[51.61380143560731, 51.58627972082576, 51.5116...</td>\n      <td>[-0.1439252080315696, -0.2649385248806523, -0....</td>\n      <td>[[51.61380143560731, -0.1439252080315696], [51...</td>\n      <td>[[51.467163802423535, -0.08220173343213621], [...</td>\n      <td>[[51.588920213620966, -0.37529541858104987], [...</td>\n    </tr>\n    <tr>\n      <th>4</th>\n      <td>[51.48450977484127, 51.6164733547414, 51.50185...</td>\n      <td>[-0.18605750053720077, -0.09112456786144085, -...</td>\n      <td>[[51.48450977484127, -0.18605750053720077], [5...</td>\n      <td>[[51.528423345846896, -0.15109865276080614], [...</td>\n      <td>[[51.61631117800485, -0.09713825638676454], [5...</td>\n    </tr>\n    <tr>\n      <th>5</th>\n      <td>[51.60964644238399, 51.35557649123816, 51.5159...</td>\n      <td>[-0.29034719542984344, -0.23727390980469665, -...</td>\n      <td>[[51.60964644238399, -0.29034719542984344], [5...</td>\n      <td>[[51.49147715782252, 0.1025212383805304], [51....</td>\n      <td>[[51.59727780779929, -0.04988939120388569], [5...</td>\n    </tr>\n    <tr>\n      <th>6</th>\n      <td>[51.60331357835404, 51.62290010686051, 51.4674...</td>\n      <td>[-0.06864035780212857, -0.27361673620725596, -...</td>\n      <td>[[51.60331357835404, -0.06864035780212857], [5...</td>\n      <td>[[51.53140686212859, -0.14447166085936813], [5...</td>\n      <td>[[51.51900839432494, -0.057363347388116714], [...</td>\n    </tr>\n    <tr>\n      <th>7</th>\n      <td>[51.46487886246913, 51.62224220106033, 51.4653...</td>\n      <td>[0.13012119174110937, -0.10457141605645831, -0...</td>\n      <td>[[51.46487886246913, 0.13012119174110937], [51...</td>\n      <td>[[51.5752067291326, 0.032887028219076075], [51...</td>\n      <td>[[51.48267564279008, -0.2077457079710041], [51...</td>\n    </tr>\n  </tbody>\n</table>\n<p>100 rows × 5 columns</p>\n</div>",
      "text/plain": "                                                  lat  \\\n0   [51.471819972612224, 51.36553333217895, 51.506...   \n1   [51.56318321541861, 51.44562745912717, 51.5406...   \n2   [51.52144353984821, 51.52188626631142, 51.5259...   \n3   [51.61380143560731, 51.58627972082576, 51.5116...   \n4   [51.48450977484127, 51.6164733547414, 51.50185...   \n..                                                ...   \n3   [51.61380143560731, 51.58627972082576, 51.5116...   \n4   [51.48450977484127, 51.6164733547414, 51.50185...   \n5   [51.60964644238399, 51.35557649123816, 51.5159...   \n6   [51.60331357835404, 51.62290010686051, 51.4674...   \n7   [51.46487886246913, 51.62224220106033, 51.4653...   \n\n                                                 long  \\\n0   [0.014580652465213007, -0.2261973925113902, -0...   \n1   [-0.03842347003684066, -0.11036908963588887, -...   \n2   [-0.1295955129957982, -0.1332125664487464, -0....   \n3   [-0.1439252080315696, -0.2649385248806523, -0....   \n4   [-0.18605750053720077, -0.09112456786144085, -...   \n..                                                ...   \n3   [-0.1439252080315696, -0.2649385248806523, -0....   \n4   [-0.18605750053720077, -0.09112456786144085, -...   \n5   [-0.29034719542984344, -0.23727390980469665, -...   \n6   [-0.06864035780212857, -0.27361673620725596, -...   \n7   [0.13012119174110937, -0.10457141605645831, -0...   \n\n                                                array  \\\n0   [[51.471819972612224, 0.014580652465213007], [...   \n1   [[51.56318321541861, -0.03842347003684066], [5...   \n2   [[51.52144353984821, -0.1295955129957982], [51...   \n3   [[51.61380143560731, -0.1439252080315696], [51...   \n4   [[51.48450977484127, -0.18605750053720077], [5...   \n..                                                ...   \n3   [[51.61380143560731, -0.1439252080315696], [51...   \n4   [[51.48450977484127, -0.18605750053720077], [5...   \n5   [[51.60964644238399, -0.29034719542984344], [5...   \n6   [[51.60331357835404, -0.06864035780212857], [5...   \n7   [[51.46487886246913, 0.13012119174110937], [51...   \n\n                                         sample_cases  \\\n0   [[51.501567003789006, -0.09347439599380858], [...   \n1   [[51.51836839554727, -0.16839008219657037], [5...   \n2   [[51.53568766938471, -0.15296519643099438], [5...   \n3   [[51.49946087941606, -0.10727222689368449], [5...   \n4   [[51.422654933952145, -0.031766708483461414], ...   \n..                                                ...   \n3   [[51.467163802423535, -0.08220173343213621], [...   \n4   [[51.528423345846896, -0.15109865276080614], [...   \n5   [[51.49147715782252, 0.1025212383805304], [51....   \n6   [[51.53140686212859, -0.14447166085936813], [5...   \n7   [[51.5752067291326, 0.032887028219076075], [51...   \n\n                                      sample_controls  \n0   [[51.46645704923287, -0.03329927466216426], [5...  \n1   [[51.592835443911525, -0.021267597166912067], ...  \n2   [[51.49822775506927, -0.09290674714164365], [5...  \n3   [[51.51453752785353, -0.13815414203657206], [5...  \n4   [[51.47142432092705, -0.13986717592734776], [5...  \n..                                                ...  \n3   [[51.588920213620966, -0.37529541858104987], [...  \n4   [[51.61631117800485, -0.09713825638676454], [5...  \n5   [[51.59727780779929, -0.04988939120388569], [5...  \n6   [[51.51900839432494, -0.057363347388116714], [...  \n7   [[51.48267564279008, -0.2077457079710041], [51...  \n\n[100 rows x 5 columns]"
     },
     "execution_count": 48,
     "metadata": {},
     "output_type": "execute_result"
    }
   ],
   "source": [
    "simulated_companies"
   ]
  },
  {
   "cell_type": "markdown",
   "metadata": {},
   "source": [
    "# Get PDF from controls "
   ]
  },
  {
   "cell_type": "code",
   "execution_count": 66,
   "metadata": {},
   "outputs": [],
   "source": [
    "controls = simulated_companies.iloc[2]"
   ]
  },
  {
   "cell_type": "code",
   "execution_count": 70,
   "metadata": {},
   "outputs": [],
   "source": [
    "controls = pd.DataFrame(controls).T"
   ]
  },
  {
   "cell_type": "code",
   "execution_count": 71,
   "metadata": {},
   "outputs": [
    {
     "data": {
      "text/html": "<div>\n<style scoped>\n    .dataframe tbody tr th:only-of-type {\n        vertical-align: middle;\n    }\n\n    .dataframe tbody tr th {\n        vertical-align: top;\n    }\n\n    .dataframe thead tr th {\n        text-align: left;\n    }\n</style>\n<table border=\"1\" class=\"dataframe\">\n  <thead>\n    <tr>\n      <th></th>\n      <th>lat</th>\n      <th>long</th>\n      <th>array</th>\n      <th>sample_cases</th>\n      <th>sample_controls</th>\n    </tr>\n  </thead>\n  <tbody>\n    <tr>\n      <th>2</th>\n      <td>[51.52144353984821, 51.52188626631142, 51.5259...</td>\n      <td>[-0.1295955129957982, -0.1332125664487464, -0....</td>\n      <td>[[51.52144353984821, -0.1295955129957982], [51...</td>\n      <td>[[51.53568766938471, -0.15296519643099438], [5...</td>\n      <td>[[51.49822775506927, -0.09290674714164365], [5...</td>\n    </tr>\n  </tbody>\n</table>\n</div>",
      "text/plain": "                                                 lat  \\\n2  [51.52144353984821, 51.52188626631142, 51.5259...   \n\n                                                long  \\\n2  [-0.1295955129957982, -0.1332125664487464, -0....   \n\n                                               array  \\\n2  [[51.52144353984821, -0.1295955129957982], [51...   \n\n                                        sample_cases  \\\n2  [[51.53568766938471, -0.15296519643099438], [5...   \n\n                                     sample_controls  \n2  [[51.49822775506927, -0.09290674714164365], [5...  "
     },
     "execution_count": 71,
     "metadata": {},
     "output_type": "execute_result"
    }
   ],
   "source": [
    "controls"
   ]
  },
  {
   "cell_type": "code",
   "execution_count": 72,
   "metadata": {},
   "outputs": [],
   "source": [
    "list_of_controls = controls['array'].values.tolist()"
   ]
  },
  {
   "cell_type": "code",
   "execution_count": 93,
   "metadata": {},
   "outputs": [],
   "source": [
    "x = []\n",
    "for i in list_of_controls:\n",
    "    for j in i:\n",
    "        for f in j:\n",
    "            x.append(f[0])\n",
    "\n",
    "y = []\n",
    "for i in list_of_controls:\n",
    "    for j in i:\n",
    "        for f in j:\n",
    "            y.append(f[1])\n"
   ]
  },
  {
   "cell_type": "code",
   "execution_count": 96,
   "metadata": {},
   "outputs": [],
   "source": [
    "x = np.array(x)\n",
    "y = np.array(y)"
   ]
  },
  {
   "cell_type": "code",
   "execution_count": 99,
   "metadata": {},
   "outputs": [],
   "source": [
    "values = np.vstack([x, y])\n",
    "kernel = stats.gaussian_kde(values)"
   ]
  },
  {
   "cell_type": "code",
   "execution_count": 98,
   "metadata": {},
   "outputs": [
    {
     "data": {
      "text/plain": "array([[ 5.15214435e+01,  5.15218863e+01,  5.15259078e+01, ...,\n         5.15098924e+01,  5.15816881e+01,  5.15008786e+01],\n       [-1.29595513e-01, -1.33212566e-01, -1.26312571e-01, ...,\n        -1.65325910e-01, -9.88724486e-02, -4.71127752e-02]])"
     },
     "execution_count": 98,
     "metadata": {},
     "output_type": "execute_result"
    }
   ],
   "source": [
    "values"
   ]
  },
  {
   "cell_type": "markdown",
   "metadata": {},
   "source": [
    "# Define functions to find lambdas and calculate kinhom"
   ]
  },
  {
   "cell_type": "code",
   "execution_count": 101,
   "metadata": {},
   "outputs": [],
   "source": [
    "def find_lambda(kernel, x, y):\n",
    "    values = np.vstack([x, y])\n",
    "    return kernel.pdf(values)\n",
    "\n",
    "def fun_find_kinhom(distance, support, multiplied_lambdas):\n",
    "    kinhom_values = []\n",
    "    for x in support:\n",
    "        if x > distance:\n",
    "            x = 1/multiplied_lambdas\n",
    "        else: \n",
    "            x = 0 \n",
    "        kinhom_values.append(x)\n",
    "    return np.array(kinhom_values)"
   ]
  },
  {
   "cell_type": "markdown",
   "metadata": {},
   "source": [
    "# Get distances and calculate kinhom on cases"
   ]
  },
  {
   "cell_type": "code",
   "execution_count": 107,
   "metadata": {},
   "outputs": [],
   "source": [
    "simulated_cases = pd.read_pickle('cases.pkl')\n",
    "simulated_cases.columns = [['lat', 'long']]\n",
    "simulated_cases[['lat', 'long']] = simulated_cases[['lat', 'long']].apply(flatten)\n",
    "cases_df = coords_to_array(simulated_cases)"
   ]
  },
  {
   "cell_type": "code",
   "execution_count": 125,
   "metadata": {},
   "outputs": [],
   "source": [
    "data = cases_df['array'].values.tolist()[0][0]"
   ]
  },
  {
   "cell_type": "code",
   "execution_count": 126,
   "metadata": {},
   "outputs": [
    {
     "data": {
      "text/plain": "array([[ 5.14681932e+01, -3.40747753e-01],\n       [ 5.15488815e+01, -1.03090107e-02],\n       [ 5.16214525e+01, -1.87191053e-01],\n       ...,\n       [ 5.14601262e+01, -1.26795916e-01],\n       [ 5.15813453e+01,  6.64794121e-03],\n       [ 5.15478325e+01, -1.45159267e-01]])"
     },
     "execution_count": 126,
     "metadata": {},
     "output_type": "execute_result"
    }
   ],
   "source": [
    "data"
   ]
  },
  {
   "cell_type": "markdown",
   "metadata": {},
   "source": [
    "# Define distances at which to asses Kinhom"
   ]
  },
  {
   "cell_type": "code",
   "execution_count": 123,
   "metadata": {},
   "outputs": [],
   "source": [
    "support = [0.        , 0.00584394, 0.01168788, 0.01753182, 0.02337576,\n",
    "       0.0292197 , 0.03506364, 0.04090759, 0.04675153, 0.05259547]"
   ]
  },
  {
   "cell_type": "code",
   "execution_count": 127,
   "metadata": {},
   "outputs": [],
   "source": [
    "def find_lambdas_and_distances(array_of_simulated_coordinates, support):\n",
    "    all_pairs = [(a, b) for idx, a in enumerate(array_of_simulated_coordinates) for b in array_of_simulated_coordinates[idx + 1:]]\n",
    "    df = pd.DataFrame(all_pairs)\n",
    "    df.columns = [['x', 'y']]\n",
    "    df['lambda_values_x'] = df.apply(lambda x: find_lambda(kernel, x['x'][0], x['x'][1]), axis = 1) \n",
    "    df['lambda_values_y'] = df.apply(lambda x: find_lambda(kernel, x['y'][0], x['y'][1]), axis = 1)\n",
    "    df['inhom_lambda'] = df.apply(lambda x: x['lambda_values_x']*x['lambda_values_y'], axis =1) \n",
    "    df['distance'] = df.apply(lambda x: distance.euclidean(x['x'], x['y']), axis = 1)\n",
    "    support_names = map(str, support)\n",
    "    support_pd = pd.DataFrame(zip(support_names, support),\n",
    "               columns =['distance_name', 'distance'])\n",
    "    support_pd = support_pd.T\n",
    "    support_pd.columns = support_pd.iloc[0]\n",
    "    support_pd = support_pd.iloc[1: , :]\n",
    "    support_pd = pd.DataFrame(np.repeat(support_pd.values, len(df), axis = 0))\n",
    "    support_pd.columns = support_pd.iloc[0]\n",
    "    support_pd['support'] = support_pd.values.tolist()\n",
    "    df = pd.concat([df, support_pd['support']], axis=1)\n",
    "    df.columns = [['x', 'y', 'lambda_values_x','lambda_values_y', 'multiplied_lambdas', 'distance', 'support']]\n",
    "    df['kinhom'] = df.apply(lambda x: fun_find_kinhom(x['distance'], x['support'], x['multiplied_lambdas']), axis = 1)\n",
    "    n_pairs_less_than_d = df['kinhom'].values.tolist()\n",
    "    internal_argument = np.sum(n_pairs_less_than_d, 0)\n",
    "    return df, n_pairs_less_than_d, internal_argument"
   ]
  },
  {
   "cell_type": "code",
   "execution_count": 128,
   "metadata": {},
   "outputs": [
    {
     "name": "stderr",
     "output_type": "stream",
     "text": [
      "/var/folders/0f/pzhfvnbj63jg3sk3nj099q3w0000gq/T/ipykernel_76665/3229891459.py:13: VisibleDeprecationWarning: Creating an ndarray from ragged nested sequences (which is a list-or-tuple of lists-or-tuples-or ndarrays with different lengths or shapes) is deprecated. If you meant to do this, you must specify 'dtype=object' when creating the ndarray.\n",
      "  return np.array(kinhom_values)\n"
     ]
    }
   ],
   "source": [
    "kinhoms = find_lambdas_and_distances(data, support)"
   ]
  },
  {
   "cell_type": "code",
   "execution_count": 129,
   "metadata": {},
   "outputs": [
    {
     "data": {
      "text/html": "<div>\n<style scoped>\n    .dataframe tbody tr th:only-of-type {\n        vertical-align: middle;\n    }\n\n    .dataframe tbody tr th {\n        vertical-align: top;\n    }\n\n    .dataframe thead tr th {\n        text-align: left;\n    }\n</style>\n<table border=\"1\" class=\"dataframe\">\n  <thead>\n    <tr>\n      <th></th>\n      <th>x</th>\n      <th>y</th>\n      <th>lambda_values_x</th>\n      <th>lambda_values_y</th>\n      <th>multiplied_lambdas</th>\n      <th>distance</th>\n      <th>support</th>\n      <th>kinhom</th>\n    </tr>\n  </thead>\n  <tbody>\n    <tr>\n      <th>0</th>\n      <td>[51.468193164170934, -0.34074775313951944]</td>\n      <td>[51.54888154756644, -0.010309010705312593]</td>\n      <td>[3.3774348427285332]</td>\n      <td>[9.546515772948514]</td>\n      <td>[32.24273499821383]</td>\n      <td>0.340148</td>\n      <td>[0.0, 0.00584394, 0.01168788, 0.01753182, 0.02...</td>\n      <td>[0, 0, 0, 0, 0, 0, 0, 0, 0, 0]</td>\n    </tr>\n    <tr>\n      <th>1</th>\n      <td>[51.468193164170934, -0.34074775313951944]</td>\n      <td>[51.621452489635296, -0.18719105317653056]</td>\n      <td>[3.3774348427285332]</td>\n      <td>[7.750608485275469]</td>\n      <td>[26.17717515051679]</td>\n      <td>0.216952</td>\n      <td>[0.0, 0.00584394, 0.01168788, 0.01753182, 0.02...</td>\n      <td>[0, 0, 0, 0, 0, 0, 0, 0, 0, 0]</td>\n    </tr>\n    <tr>\n      <th>2</th>\n      <td>[51.468193164170934, -0.34074775313951944]</td>\n      <td>[51.530915635313, -0.15371214775888425]</td>\n      <td>[3.3774348427285332]</td>\n      <td>[37.02297438486922]</td>\n      <td>[125.0426836689033]</td>\n      <td>0.197272</td>\n      <td>[0.0, 0.00584394, 0.01168788, 0.01753182, 0.02...</td>\n      <td>[0, 0, 0, 0, 0, 0, 0, 0, 0, 0]</td>\n    </tr>\n    <tr>\n      <th>3</th>\n      <td>[51.468193164170934, -0.34074775313951944]</td>\n      <td>[51.46265412980237, -0.19012951299805264]</td>\n      <td>[3.3774348427285332]</td>\n      <td>[9.37660878840746]</td>\n      <td>[31.66888522860193]</td>\n      <td>0.150720</td>\n      <td>[0.0, 0.00584394, 0.01168788, 0.01753182, 0.02...</td>\n      <td>[0, 0, 0, 0, 0, 0, 0, 0, 0, 0]</td>\n    </tr>\n    <tr>\n      <th>4</th>\n      <td>[51.468193164170934, -0.34074775313951944]</td>\n      <td>[51.45039782036547, -0.04048566340890164]</td>\n      <td>[3.3774348427285332]</td>\n      <td>[5.396367937015943]</td>\n      <td>[18.22588109466074]</td>\n      <td>0.300789</td>\n      <td>[0.0, 0.00584394, 0.01168788, 0.01753182, 0.02...</td>\n      <td>[0, 0, 0, 0, 0, 0, 0, 0, 0, 0]</td>\n    </tr>\n    <tr>\n      <th>...</th>\n      <td>...</td>\n      <td>...</td>\n      <td>...</td>\n      <td>...</td>\n      <td>...</td>\n      <td>...</td>\n      <td>...</td>\n      <td>...</td>\n    </tr>\n    <tr>\n      <th>540275</th>\n      <td>[51.35977051002052, -0.09033169064702062]</td>\n      <td>[51.58134530774247, 0.00664794121226886]</td>\n      <td>[1.7218158741620144]</td>\n      <td>[10.546699108705331]</td>\n      <td>[18.159473945379208]</td>\n      <td>0.241869</td>\n      <td>[0.0, 0.00584394, 0.01168788, 0.01753182, 0.02...</td>\n      <td>[0, 0, 0, 0, 0, 0, 0, 0, 0, 0]</td>\n    </tr>\n    <tr>\n      <th>540276</th>\n      <td>[51.35977051002052, -0.09033169064702062]</td>\n      <td>[51.54783245337919, -0.1451592670607011]</td>\n      <td>[1.7218158741620144]</td>\n      <td>[25.132506697136147]</td>\n      <td>[43.273548988612156]</td>\n      <td>0.195891</td>\n      <td>[0.0, 0.00584394, 0.01168788, 0.01753182, 0.02...</td>\n      <td>[0, 0, 0, 0, 0, 0, 0, 0, 0, 0]</td>\n    </tr>\n    <tr>\n      <th>540277</th>\n      <td>[51.46012621978864, -0.126795916121335]</td>\n      <td>[51.58134530774247, 0.00664794121226886]</td>\n      <td>[11.1486502688976]</td>\n      <td>[10.546699108705331]</td>\n      <td>[117.58145985424976]</td>\n      <td>0.180281</td>\n      <td>[0.0, 0.00584394, 0.01168788, 0.01753182, 0.02...</td>\n      <td>[0, 0, 0, 0, 0, 0, 0, 0, 0, 0]</td>\n    </tr>\n    <tr>\n      <th>540278</th>\n      <td>[51.46012621978864, -0.126795916121335]</td>\n      <td>[51.54783245337919, -0.1451592670607011]</td>\n      <td>[11.1486502688976]</td>\n      <td>[25.132506697136147]</td>\n      <td>[280.19352754709763]</td>\n      <td>0.089608</td>\n      <td>[0.0, 0.00584394, 0.01168788, 0.01753182, 0.02...</td>\n      <td>[0, 0, 0, 0, 0, 0, 0, 0, 0, 0]</td>\n    </tr>\n    <tr>\n      <th>540279</th>\n      <td>[51.58134530774247, 0.00664794121226886]</td>\n      <td>[51.54783245337919, -0.1451592670607011]</td>\n      <td>[10.546699108705331]</td>\n      <td>[25.132506697136147]</td>\n      <td>[265.06498598221657]</td>\n      <td>0.155462</td>\n      <td>[0.0, 0.00584394, 0.01168788, 0.01753182, 0.02...</td>\n      <td>[0, 0, 0, 0, 0, 0, 0, 0, 0, 0]</td>\n    </tr>\n  </tbody>\n</table>\n<p>540280 rows × 8 columns</p>\n</div>",
      "text/plain": "                                                 x  \\\n0       [51.468193164170934, -0.34074775313951944]   \n1       [51.468193164170934, -0.34074775313951944]   \n2       [51.468193164170934, -0.34074775313951944]   \n3       [51.468193164170934, -0.34074775313951944]   \n4       [51.468193164170934, -0.34074775313951944]   \n...                                            ...   \n540275   [51.35977051002052, -0.09033169064702062]   \n540276   [51.35977051002052, -0.09033169064702062]   \n540277     [51.46012621978864, -0.126795916121335]   \n540278     [51.46012621978864, -0.126795916121335]   \n540279    [51.58134530774247, 0.00664794121226886]   \n\n                                                 y       lambda_values_x  \\\n0       [51.54888154756644, -0.010309010705312593]  [3.3774348427285332]   \n1       [51.621452489635296, -0.18719105317653056]  [3.3774348427285332]   \n2          [51.530915635313, -0.15371214775888425]  [3.3774348427285332]   \n3        [51.46265412980237, -0.19012951299805264]  [3.3774348427285332]   \n4        [51.45039782036547, -0.04048566340890164]  [3.3774348427285332]   \n...                                            ...                   ...   \n540275    [51.58134530774247, 0.00664794121226886]  [1.7218158741620144]   \n540276    [51.54783245337919, -0.1451592670607011]  [1.7218158741620144]   \n540277    [51.58134530774247, 0.00664794121226886]    [11.1486502688976]   \n540278    [51.54783245337919, -0.1451592670607011]    [11.1486502688976]   \n540279    [51.54783245337919, -0.1451592670607011]  [10.546699108705331]   \n\n             lambda_values_y    multiplied_lambdas  distance  \\\n0        [9.546515772948514]   [32.24273499821383]  0.340148   \n1        [7.750608485275469]   [26.17717515051679]  0.216952   \n2        [37.02297438486922]   [125.0426836689033]  0.197272   \n3         [9.37660878840746]   [31.66888522860193]  0.150720   \n4        [5.396367937015943]   [18.22588109466074]  0.300789   \n...                      ...                   ...       ...   \n540275  [10.546699108705331]  [18.159473945379208]  0.241869   \n540276  [25.132506697136147]  [43.273548988612156]  0.195891   \n540277  [10.546699108705331]  [117.58145985424976]  0.180281   \n540278  [25.132506697136147]  [280.19352754709763]  0.089608   \n540279  [25.132506697136147]  [265.06498598221657]  0.155462   \n\n                                                  support  \\\n0       [0.0, 0.00584394, 0.01168788, 0.01753182, 0.02...   \n1       [0.0, 0.00584394, 0.01168788, 0.01753182, 0.02...   \n2       [0.0, 0.00584394, 0.01168788, 0.01753182, 0.02...   \n3       [0.0, 0.00584394, 0.01168788, 0.01753182, 0.02...   \n4       [0.0, 0.00584394, 0.01168788, 0.01753182, 0.02...   \n...                                                   ...   \n540275  [0.0, 0.00584394, 0.01168788, 0.01753182, 0.02...   \n540276  [0.0, 0.00584394, 0.01168788, 0.01753182, 0.02...   \n540277  [0.0, 0.00584394, 0.01168788, 0.01753182, 0.02...   \n540278  [0.0, 0.00584394, 0.01168788, 0.01753182, 0.02...   \n540279  [0.0, 0.00584394, 0.01168788, 0.01753182, 0.02...   \n\n                                kinhom  \n0       [0, 0, 0, 0, 0, 0, 0, 0, 0, 0]  \n1       [0, 0, 0, 0, 0, 0, 0, 0, 0, 0]  \n2       [0, 0, 0, 0, 0, 0, 0, 0, 0, 0]  \n3       [0, 0, 0, 0, 0, 0, 0, 0, 0, 0]  \n4       [0, 0, 0, 0, 0, 0, 0, 0, 0, 0]  \n...                                ...  \n540275  [0, 0, 0, 0, 0, 0, 0, 0, 0, 0]  \n540276  [0, 0, 0, 0, 0, 0, 0, 0, 0, 0]  \n540277  [0, 0, 0, 0, 0, 0, 0, 0, 0, 0]  \n540278  [0, 0, 0, 0, 0, 0, 0, 0, 0, 0]  \n540279  [0, 0, 0, 0, 0, 0, 0, 0, 0, 0]  \n\n[540280 rows x 8 columns]"
     },
     "execution_count": 129,
     "metadata": {},
     "output_type": "execute_result"
    }
   ],
   "source": [
    "kinhoms[0]"
   ]
  },
  {
   "cell_type": "code",
   "execution_count": 130,
   "metadata": {},
   "outputs": [
    {
     "data": {
      "text/plain": "[[array([0, 0, 0, 0, 0, 0, 0, 0, 0, 0])],\n [array([0, 0, 0, 0, 0, 0, 0, 0, 0, 0])],\n [array([0, 0, 0, 0, 0, 0, 0, 0, 0, 0])],\n [array([0, 0, 0, 0, 0, 0, 0, 0, 0, 0])],\n [array([0, 0, 0, 0, 0, 0, 0, 0, 0, 0])],\n [array([0, 0, 0, 0, 0, 0, 0, 0, 0, 0])],\n [array([0, 0, 0, 0, 0, 0, 0, 0, 0, 0])],\n [array([0, 0, 0, 0, 0, 0, 0, 0, 0, 0])],\n [array([0, 0, 0, 0, 0, 0, 0, 0, 0, 0])],\n [array([0, 0, 0, 0, 0, 0, 0, 0, 0, 0])],\n [array([0, 0, 0, 0, 0, 0, 0, 0, 0, 0])],\n [array([0, 0, 0, 0, 0, 0, 0, 0, 0, 0])],\n [array([0, 0, 0, 0, 0, 0, 0, 0, 0, 0])],\n [array([0, 0, 0, 0, 0, 0, 0, 0, 0, 0])],\n [array([0, 0, 0, 0, 0, 0, 0, 0, 0, 0])],\n [array([0, 0, 0, 0, 0, 0, 0, 0, 0, 0])],\n [array([0, 0, 0, 0, 0, 0, 0, 0, 0, 0])],\n [array([0, 0, 0, 0, 0, 0, array([0.10881256]), array([0.10881256]),\n         array([0.10881256]), array([0.10881256])], dtype=object)],\n [array([0, 0, 0, 0, 0, 0, 0, 0, 0, 0])],\n [array([0, 0, 0, 0, 0, 0, 0, 0, 0, 0])],\n [array([0, 0, 0, 0, 0, 0, 0, 0, 0, 0])],\n [array([0, 0, 0, 0, 0, 0, 0, 0, 0, 0])],\n [array([0, 0, 0, 0, 0, 0, 0, 0, 0, 0])],\n [array([0, 0, 0, 0, 0, 0, 0, 0, 0, 0])],\n [array([0, 0, 0, 0, 0, 0, 0, 0, 0, 0])],\n [array([0, 0, 0, 0, 0, 0, 0, 0, 0, 0])],\n [array([0, 0, 0, 0, 0, 0, 0, 0, 0, 0])],\n [array([0, 0, 0, 0, 0, 0, 0, 0, 0, 0])],\n [array([0, 0, 0, 0, 0, 0, 0, 0, 0, 0])],\n [array([0, 0, 0, 0, 0, 0, 0, 0, 0, 0])],\n [array([0, 0, 0, 0, 0, 0, 0, 0, 0, 0])],\n [array([0, 0, 0, 0, 0, 0, 0, 0, 0, 0])],\n [array([0, 0, 0, 0, 0, 0, 0, 0, 0, 0])],\n [array([0, 0, 0, 0, 0, 0, 0, 0, 0, 0])],\n [array([0, 0, 0, 0, 0, 0, 0, 0, 0, 0])],\n [array([0, 0, 0, 0, 0, 0, 0, 0, 0, 0])],\n [array([0, 0, 0, 0, 0, 0, 0, 0, 0, 0])],\n [array([0, 0, 0, 0, 0, 0, 0, 0, 0, 0])],\n [array([0, 0, 0, 0, 0, 0, 0, 0, 0, 0])],\n [array([0, 0, 0, 0, 0, 0, 0, 0, 0, 0])],\n [array([0, 0, 0, 0, 0, 0, 0, 0, 0, 0])],\n [array([0, 0, 0, 0, 0, 0, 0, 0, 0, 0])],\n [array([0, 0, 0, 0, 0, 0, 0, 0, 0, 0])],\n [array([0, 0, 0, 0, 0, 0, 0, 0, 0, 0])],\n [array([0, 0, 0, 0, 0, 0, 0, 0, 0, 0])],\n [array([0, 0, 0, 0, 0, 0, 0, 0, 0, 0])],\n [array([0, 0, 0, 0, 0, 0, 0, 0, 0, 0])],\n [array([0, 0, 0, 0, 0, 0, 0, 0, 0, 0])],\n [array([0, 0, 0, 0, 0, 0, 0, 0, 0, 0])],\n [array([0, 0, 0, 0, 0, 0, 0, 0, 0, 0])],\n [array([0, 0, 0, 0, 0, 0, 0, 0, 0, 0])],\n [array([0, 0, 0, 0, 0, 0, 0, 0, 0, 0])],\n [array([0, 0, 0, 0, 0, 0, 0, 0, 0, 0])],\n [array([0, 0, 0, 0, 0, 0, 0, 0, 0, 0])],\n [array([0, 0, 0, 0, 0, 0, 0, 0, 0, 0])],\n [array([0, 0, 0, 0, 0, 0, 0, 0, 0, 0])],\n [array([0, 0, 0, 0, 0, 0, 0, 0, 0, 0])],\n [array([0, 0, 0, 0, 0, 0, 0, 0, 0, 0])],\n [array([0, 0, 0, 0, 0, 0, 0, 0, 0, 0])],\n [array([0, 0, 0, 0, 0, 0, 0, 0, 0, 0])],\n [array([0, 0, 0, 0, 0, 0, 0, 0, 0, 0])],\n [array([0, 0, 0, 0, 0, 0, 0, 0, 0, 0])],\n [array([0, 0, 0, 0, 0, 0, 0, 0, 0, 0])],\n [array([0, 0, 0, 0, 0, 0, 0, 0, 0, 0])],\n [array([0, 0, 0, 0, 0, 0, 0, 0, 0, 0])],\n [array([0, 0, 0, 0, 0, 0, 0, 0, 0, 0])],\n [array([0, 0, 0, 0, 0, 0, 0, 0, 0, 0])],\n [array([0, 0, 0, 0, 0, 0, 0, 0, 0, 0])],\n [array([0, 0, 0, 0, 0, 0, 0, 0, 0, 0])],\n [array([0, 0, 0, 0, 0, 0, 0, 0, 0, 0])],\n [array([0, 0, 0, 0, 0, 0, 0, 0, 0, 0])],\n [array([0, 0, 0, 0, 0, 0, 0, 0, 0, 0])],\n [array([0, 0, 0, 0, 0, 0, 0, 0, 0, 0])],\n [array([0, 0, 0, 0, 0, 0, 0, 0, 0, 0])],\n [array([0, 0, 0, 0, 0, 0, 0, 0, 0, 0])],\n [array([0, 0, 0, 0, 0, 0, 0, 0, 0, 0])],\n [array([0, 0, 0, 0, 0, 0, 0, 0, 0, 0])],\n [array([0, 0, 0, 0, 0, 0, 0, 0, 0, 0])],\n [array([0, 0, 0, 0, 0, 0, 0, 0, 0, 0])],\n [array([0, 0, 0, 0, 0, 0, 0, 0, 0, 0])],\n [array([0, 0, array([0.09110329]), array([0.09110329]),\n         array([0.09110329]), array([0.09110329]), array([0.09110329]),\n         array([0.09110329]), array([0.09110329]), array([0.09110329])],\n        dtype=object)],\n [array([0, 0, 0, 0, 0, 0, 0, 0, 0, 0])],\n [array([0, 0, 0, 0, 0, 0, 0, 0, 0, 0])],\n [array([0, 0, 0, 0, 0, 0, 0, 0, 0, 0])],\n [array([0, 0, 0, 0, 0, 0, 0, 0, 0, 0])],\n [array([0, 0, 0, 0, 0, 0, 0, 0, 0, 0])],\n [array([0, 0, 0, 0, 0, 0, 0, 0, 0, 0])],\n [array([0, 0, 0, 0, 0, 0, 0, 0, 0, 0])],\n [array([0, 0, 0, 0, 0, 0, 0, 0, 0, 0])],\n [array([0, 0, 0, 0, 0, 0, 0, 0, 0, 0])],\n [array([0, 0, 0, 0, 0, 0, 0, 0, 0, 0])],\n [array([0, 0, 0, 0, 0, 0, 0, 0, 0, 0])],\n [array([0, 0, 0, 0, 0, 0, 0, 0, 0, 0])],\n [array([0, 0, 0, 0, 0, 0, 0, 0, 0, 0])],\n [array([0, 0, 0, 0, 0, 0, 0, 0, 0, 0])],\n [array([0, 0, 0, 0, 0, 0, 0, 0, 0, 0])],\n [array([0, 0, 0, 0, 0, 0, 0, 0, 0, 0])],\n [array([0, 0, 0, 0, 0, 0, 0, 0, 0, array([0.12819923])], dtype=object)],\n [array([0, 0, 0, 0, 0, 0, 0, 0, 0, 0])],\n [array([0, 0, 0, 0, 0, 0, 0, 0, 0, 0])],\n [array([0, 0, 0, 0, 0, 0, 0, 0, 0, 0])],\n [array([0, 0, 0, 0, 0, 0, 0, 0, 0, 0])],\n [array([0, 0, 0, 0, 0, 0, 0, 0, 0, 0])],\n [array([0, 0, 0, 0, 0, 0, 0, 0, 0, 0])],\n [array([0, 0, 0, 0, 0, 0, 0, 0, 0, 0])],\n [array([0, 0, 0, 0, 0, 0, 0, 0, 0, 0])],\n [array([0, 0, 0, 0, 0, 0, 0, 0, 0, 0])],\n [array([0, 0, 0, 0, 0, 0, 0, 0, 0, 0])],\n [array([0, 0, 0, 0, 0, 0, 0, 0, 0, 0])],\n [array([0, 0, 0, 0, 0, 0, 0, 0, 0, 0])],\n [array([0, 0, 0, 0, 0, 0, 0, 0, 0, 0])],\n [array([0, 0, 0, 0, 0, 0, 0, 0, 0, 0])],\n [array([0, 0, 0, 0, 0, 0, 0, 0, 0, 0])],\n [array([0, 0, 0, 0, 0, 0, 0, 0, 0, 0])],\n [array([0, 0, 0, 0, 0, 0, 0, 0, 0, 0])],\n [array([0, 0, 0, 0, 0, 0, 0, 0, 0, 0])],\n [array([0, 0, 0, 0, 0, 0, 0, 0, 0, 0])],\n [array([0, 0, 0, 0, 0, 0, 0, 0, 0, 0])],\n [array([0, 0, 0, 0, 0, 0, 0, 0, 0, 0])],\n [array([0, 0, 0, 0, 0, 0, 0, 0, 0, 0])],\n [array([0, 0, 0, 0, 0, 0, 0, 0, 0, 0])],\n [array([0, 0, 0, 0, 0, 0, 0, 0, 0, 0])],\n [array([0, 0, 0, 0, array([0.10884807]), array([0.10884807]),\n         array([0.10884807]), array([0.10884807]), array([0.10884807]),\n         array([0.10884807])], dtype=object)],\n [array([0, 0, 0, 0, 0, 0, 0, 0, 0, 0])],\n [array([0, 0, 0, 0, 0, 0, 0, 0, 0, 0])],\n [array([0, 0, 0, 0, 0, 0, 0, 0, 0, 0])],\n [array([0, 0, 0, 0, 0, 0, 0, 0, 0, 0])],\n [array([0, 0, 0, 0, 0, 0, 0, 0, 0, 0])],\n [array([0, 0, 0, 0, 0, 0, 0, 0, 0, 0])],\n [array([0, 0, 0, 0, 0, 0, 0, 0, 0, 0])],\n [array([0, 0, 0, 0, 0, 0, 0, 0, 0, 0])],\n [array([0, 0, 0, 0, 0, 0, 0, 0, 0, 0])],\n [array([0, 0, 0, 0, 0, 0, 0, 0, 0, 0])],\n [array([0, 0, 0, 0, 0, 0, 0, 0, 0, 0])],\n [array([0, 0, 0, 0, 0, 0, 0, 0, 0, 0])],\n [array([0, 0, 0, 0, 0, 0, 0, 0, 0, 0])],\n [array([0, 0, 0, 0, 0, 0, 0, 0, 0, 0])],\n [array([0, 0, 0, 0, 0, 0, 0, 0, 0, 0])],\n [array([0, 0, 0, 0, 0, 0, 0, 0, 0, 0])],\n [array([0, 0, 0, 0, 0, 0, 0, 0, 0, 0])],\n [array([0, 0, 0, 0, 0, 0, 0, 0, 0, 0])],\n [array([0, 0, 0, 0, 0, 0, 0, 0, 0, 0])],\n [array([0, 0, 0, 0, 0, 0, 0, array([0.10438776]), array([0.10438776]),\n         array([0.10438776])], dtype=object)],\n [array([0, 0, 0, 0, 0, 0, 0, 0, 0, 0])],\n [array([0, 0, 0, 0, 0, 0, 0, 0, 0, 0])],\n [array([0, 0, 0, 0, 0, 0, 0, 0, 0, 0])],\n [array([0, 0, 0, 0, 0, 0, 0, 0, 0, 0])],\n [array([0, 0, 0, 0, 0, 0, 0, 0, 0, 0])],\n [array([0, 0, 0, 0, 0, 0, 0, 0, 0, 0])],\n [array([0, 0, 0, 0, 0, 0, 0, 0, 0, 0])],\n [array([0, 0, 0, 0, 0, 0, 0, 0, 0, 0])],\n [array([0, 0, 0, 0, array([0.10536197]), array([0.10536197]),\n         array([0.10536197]), array([0.10536197]), array([0.10536197]),\n         array([0.10536197])], dtype=object)],\n [array([0, 0, 0, 0, 0, 0, 0, 0, 0, 0])],\n [array([0, 0, 0, 0, 0, 0, 0, 0, 0, 0])],\n [array([0, 0, 0, 0, 0, 0, 0, 0, 0, 0])],\n [array([0, 0, 0, 0, 0, 0, 0, 0, 0, 0])],\n [array([0, 0, 0, 0, 0, 0, 0, 0, 0, 0])],\n [array([0, 0, 0, 0, 0, 0, 0, 0, 0, 0])],\n [array([0, 0, 0, 0, 0, 0, 0, 0, 0, 0])],\n [array([0, 0, 0, 0, 0, 0, 0, 0, 0, 0])],\n [array([0, 0, 0, 0, 0, 0, 0, 0, 0, 0])],\n [array([0, 0, 0, 0, 0, 0, 0, 0, 0, 0])],\n [array([0, 0, 0, 0, 0, 0, 0, 0, 0, 0])],\n [array([0, 0, 0, 0, 0, 0, 0, 0, 0, 0])],\n [array([0, 0, 0, 0, 0, 0, 0, 0, 0, 0])],\n [array([0, 0, 0, 0, 0, 0, 0, 0, 0, 0])],\n [array([0, 0, 0, 0, 0, 0, 0, 0, 0, 0])],\n [array([0, 0, 0, 0, 0, 0, 0, 0, 0, 0])],\n [array([0, 0, 0, 0, 0, 0, 0, 0, 0, 0])],\n [array([0, 0, 0, 0, 0, 0, 0, 0, 0, 0])],\n [array([0, 0, 0, 0, 0, 0, 0, 0, 0, 0])],\n [array([0, 0, 0, 0, 0, 0, 0, 0, 0, 0])],\n [array([0, 0, 0, 0, 0, 0, 0, 0, 0, 0])],\n [array([0, 0, 0, 0, 0, 0, 0, 0, 0, 0])],\n [array([0, 0, 0, 0, 0, 0, 0, 0, 0, 0])],\n [array([0, 0, 0, 0, 0, 0, 0, 0, 0, 0])],\n [array([0, 0, 0, 0, 0, 0, 0, 0, 0, 0])],\n [array([0, 0, 0, 0, 0, 0, 0, 0, 0, 0])],\n [array([0, 0, 0, 0, 0, 0, 0, 0, 0, 0])],\n [array([0, 0, 0, 0, 0, 0, 0, 0, 0, 0])],\n [array([0, 0, 0, 0, 0, 0, 0, 0, 0, 0])],\n [array([0, 0, 0, 0, 0, 0, 0, 0, 0, 0])],\n [array([0, 0, 0, 0, 0, 0, 0, 0, 0, 0])],\n [array([0, 0, 0, 0, 0, 0, 0, 0, 0, 0])],\n [array([0, 0, 0, 0, 0, 0, 0, 0, 0, 0])],\n [array([0, 0, 0, 0, 0, 0, 0, 0, 0, 0])],\n [array([0, 0, 0, 0, 0, 0, 0, 0, 0, 0])],\n [array([0, 0, 0, 0, 0, 0, 0, 0, 0, 0])],\n [array([0, 0, 0, 0, 0, 0, 0, 0, 0, 0])],\n [array([0, 0, 0, 0, 0, 0, 0, 0, 0, 0])],\n [array([0, 0, 0, 0, 0, 0, 0, 0, 0, 0])],\n [array([0, 0, 0, 0, 0, 0, 0, 0, 0, 0])],\n [array([0, 0, 0, 0, 0, 0, 0, 0, 0, 0])],\n [array([0, 0, 0, 0, 0, 0, 0, 0, 0, 0])],\n [array([0, 0, 0, 0, 0, 0, 0, 0, 0, 0])],\n [array([0, 0, 0, 0, 0, 0, 0, 0, 0, 0])],\n [array([0, 0, 0, 0, 0, 0, 0, 0, 0, 0])],\n [array([0, 0, 0, 0, 0, 0, 0, 0, 0, 0])],\n [array([0, 0, 0, 0, 0, 0, 0, 0, 0, 0])],\n [array([0, 0, 0, 0, 0, 0, 0, 0, 0, 0])],\n [array([0, 0, 0, 0, 0, 0, 0, 0, 0, 0])],\n [array([0, 0, 0, 0, 0, 0, 0, 0, 0, 0])],\n [array([0, 0, 0, 0, 0, 0, 0, 0, 0, 0])],\n [array([0, 0, 0, 0, 0, 0, 0, 0, 0, 0])],\n [array([0, 0, 0, 0, 0, 0, 0, 0, 0, 0])],\n [array([0, 0, 0, 0, 0, 0, 0, 0, 0, 0])],\n [array([0, 0, 0, 0, 0, 0, 0, 0, 0, 0])],\n [array([0, 0, 0, 0, 0, 0, 0, 0, 0, 0])],\n [array([0, 0, 0, 0, 0, 0, 0, 0, 0, 0])],\n [array([0, 0, 0, 0, 0, 0, 0, 0, 0, 0])],\n [array([0, 0, 0, 0, 0, 0, 0, 0, 0, 0])],\n [array([0, 0, 0, 0, 0, 0, 0, 0, 0, 0])],\n [array([0, 0, 0, 0, 0, 0, 0, 0, 0, 0])],\n [array([0, 0, 0, 0, 0, 0, 0, 0, 0, 0])],\n [array([0, 0, 0, 0, 0, 0, 0, 0, 0, 0])],\n [array([0, 0, 0, 0, 0, 0, 0, 0, 0, 0])],\n [array([0, 0, 0, 0, 0, 0, 0, 0, 0, 0])],\n [array([0, 0, 0, 0, 0, 0, 0, 0, 0, 0])],\n [array([0, 0, 0, 0, 0, 0, 0, 0, 0, 0])],\n [array([0, 0, 0, 0, 0, 0, 0, 0, 0, 0])],\n [array([0, 0, 0, 0, 0, 0, 0, 0, 0, 0])],\n [array([0, 0, 0, 0, 0, 0, 0, 0, 0, 0])],\n [array([0, 0, 0, 0, 0, 0, 0, 0, 0, 0])],\n [array([0, 0, 0, 0, 0, 0, 0, 0, 0, 0])],\n [array([0, 0, 0, 0, 0, 0, 0, 0, 0, 0])],\n [array([0, 0, 0, 0, 0, 0, 0, 0, 0, 0])],\n [array([0, 0, 0, 0, 0, 0, 0, 0, 0, 0])],\n [array([0, 0, 0, 0, 0, 0, 0, 0, 0, 0])],\n [array([0, 0, 0, 0, 0, 0, 0, 0, 0, 0])],\n [array([0, 0, 0, 0, 0, 0, 0, 0, 0, 0])],\n [array([0, 0, 0, 0, 0, 0, 0, 0, 0, 0])],\n [array([0, 0, 0, 0, 0, 0, 0, 0, 0, 0])],\n [array([0, 0, 0, 0, 0, 0, 0, 0, 0, 0])],\n [array([0, 0, 0, 0, 0, 0, 0, 0, 0, 0])],\n [array([0, 0, 0, 0, 0, 0, 0, 0, 0, 0])],\n [array([0, 0, 0, 0, 0, 0, 0, 0, 0, 0])],\n [array([0, 0, 0, 0, 0, 0, 0, 0, 0, 0])],\n [array([0, 0, 0, 0, 0, 0, 0, 0, 0, 0])],\n [array([0, 0, 0, 0, 0, 0, 0, 0, 0, 0])],\n [array([0, 0, 0, 0, 0, 0, 0, 0, 0, 0])],\n [array([0, 0, 0, 0, 0, 0, 0, 0, 0, 0])],\n [array([0, 0, 0, 0, 0, 0, 0, 0, 0, 0])],\n [array([0, 0, 0, 0, 0, 0, 0, 0, 0, 0])],\n [array([0, 0, 0, 0, 0, 0, 0, 0, 0, 0])],\n [array([0, 0, 0, 0, 0, 0, 0, 0, 0, 0])],\n [array([0, 0, 0, 0, 0, 0, 0, 0, 0, 0])],\n [array([0, 0, 0, 0, 0, 0, 0, 0, 0, 0])],\n [array([0, 0, 0, 0, 0, 0, 0, 0, 0, 0])],\n [array([0, 0, 0, 0, 0, 0, 0, 0, 0, 0])],\n [array([0, 0, 0, 0, 0, 0, 0, 0, 0, 0])],\n [array([0, 0, 0, 0, 0, 0, 0, 0, 0, 0])],\n [array([0, 0, 0, 0, 0, 0, 0, 0, 0, 0])],\n [array([0, 0, 0, 0, 0, 0, 0, 0, 0, 0])],\n [array([0, 0, 0, 0, 0, 0, 0, 0, 0, 0])],\n [array([0, 0, 0, 0, 0, 0, 0, 0, 0, 0])],\n [array([0, 0, 0, 0, 0, 0, 0, 0, 0, 0])],\n [array([0, 0, 0, 0, 0, 0, 0, 0, 0, 0])],\n [array([0, 0, 0, 0, 0, 0, 0, 0, 0, 0])],\n [array([0, 0, 0, 0, 0, 0, 0, 0, 0, 0])],\n [array([0, 0, 0, 0, 0, 0, 0, 0, 0, 0])],\n [array([0, 0, 0, 0, 0, 0, 0, 0, 0, 0])],\n [array([0, 0, 0, 0, 0, 0, 0, 0, 0, 0])],\n [array([0, 0, 0, 0, 0, 0, 0, 0, 0, 0])],\n [array([0, 0, 0, 0, 0, 0, 0, 0, 0, 0])],\n [array([0, 0, 0, 0, 0, 0, 0, 0, 0, 0])],\n [array([0, 0, 0, 0, 0, 0, 0, 0, 0, 0])],\n [array([0, 0, 0, 0, 0, 0, 0, 0, 0, 0])],\n [array([0, 0, 0, 0, 0, 0, 0, 0, 0, 0])],\n [array([0, 0, 0, 0, 0, 0, 0, 0, 0, 0])],\n [array([0, 0, 0, 0, 0, 0, 0, 0, 0, 0])],\n [array([0, 0, 0, 0, 0, 0, 0, 0, 0, 0])],\n [array([0, 0, 0, 0, 0, 0, 0, 0, 0, 0])],\n [array([0, 0, 0, 0, 0, 0, 0, 0, 0, 0])],\n [array([0, 0, 0, 0, 0, 0, 0, 0, 0, 0])],\n [array([0, 0, 0, 0, 0, 0, 0, 0, 0, 0])],\n [array([0, 0, 0, 0, 0, 0, 0, 0, 0, 0])],\n [array([0, 0, 0, 0, 0, 0, 0, 0, 0, 0])],\n [array([0, 0, 0, 0, 0, 0, 0, 0, 0, 0])],\n [array([0, 0, 0, 0, 0, 0, 0, 0, 0, 0])],\n [array([0, 0, 0, 0, 0, 0, 0, 0, 0, 0])],\n [array([0, 0, 0, 0, 0, 0, 0, 0, 0, 0])],\n [array([0, 0, 0, 0, 0, 0, 0, 0, 0, 0])],\n [array([0, 0, 0, 0, 0, 0, 0, 0, 0, 0])],\n [array([0, 0, 0, 0, 0, 0, 0, 0, 0, 0])],\n [array([0, 0, 0, 0, 0, 0, 0, 0, 0, 0])],\n [array([0, 0, 0, 0, 0, 0, 0, 0, 0, 0])],\n [array([0, 0, 0, 0, 0, 0, 0, 0, 0, 0])],\n [array([0, 0, 0, 0, 0, 0, 0, 0, 0, 0])],\n [array([0, 0, 0, 0, 0, 0, 0, 0, 0, 0])],\n [array([0, 0, 0, 0, 0, 0, 0, 0, 0, 0])],\n [array([0, 0, 0, 0, 0, 0, 0, 0, 0, 0])],\n [array([0, 0, 0, 0, 0, 0, 0, 0, 0, 0])],\n [array([0, 0, 0, 0, 0, 0, 0, 0, 0, 0])],\n [array([0, 0, 0, 0, 0, 0, 0, 0, 0, 0])],\n [array([0, 0, 0, 0, 0, 0, 0, 0, 0, 0])],\n [array([0, 0, 0, 0, 0, 0, 0, 0, 0, 0])],\n [array([0, 0, 0, 0, 0, 0, 0, 0, 0, 0])],\n [array([0, 0, 0, 0, 0, 0, 0, 0, 0, 0])],\n [array([0, 0, 0, 0, 0, 0, 0, 0, 0, 0])],\n [array([0, 0, 0, 0, 0, 0, 0, 0, 0, 0])],\n [array([0, 0, 0, 0, 0, 0, 0, 0, 0, 0])],\n [array([0, 0, 0, 0, 0, 0, 0, 0, 0, 0])],\n [array([0, 0, 0, 0, 0, 0, 0, 0, 0, 0])],\n [array([0, 0, 0, 0, 0, 0, 0, 0, 0, 0])],\n [array([0, 0, 0, 0, 0, 0, 0, 0, 0, 0])],\n [array([0, 0, 0, 0, 0, 0, 0, 0, 0, 0])],\n [array([0, 0, 0, 0, 0, 0, 0, 0, 0, 0])],\n [array([0, 0, 0, 0, 0, 0, 0, 0, 0, 0])],\n [array([0, 0, 0, 0, 0, 0, 0, 0, 0, 0])],\n [array([0, 0, 0, 0, 0, 0, 0, 0, 0, 0])],\n [array([0, 0, 0, 0, 0, 0, 0, 0, 0, 0])],\n [array([0, 0, 0, 0, 0, 0, 0, 0, 0, 0])],\n [array([0, 0, 0, 0, 0, 0, 0, 0, 0, 0])],\n [array([0, 0, 0, 0, 0, 0, 0, 0, 0, 0])],\n [array([0, 0, 0, 0, 0, 0, 0, 0, 0, 0])],\n [array([0, 0, 0, 0, 0, 0, 0, 0, 0, 0])],\n [array([0, 0, 0, 0, 0, 0, 0, 0, 0, 0])],\n [array([0, 0, 0, 0, 0, 0, 0, 0, 0, 0])],\n [array([0, 0, 0, 0, 0, 0, 0, 0, array([0.1203696]), array([0.1203696])],\n        dtype=object)],\n [array([0, 0, 0, 0, 0, 0, 0, 0, 0, 0])],\n [array([0, 0, 0, 0, 0, 0, 0, 0, 0, 0])],\n [array([0, 0, 0, 0, 0, 0, 0, 0, 0, 0])],\n [array([0, 0, 0, 0, 0, 0, 0, 0, 0, 0])],\n [array([0, 0, 0, 0, 0, 0, 0, 0, 0, 0])],\n [array([0, 0, 0, 0, 0, 0, 0, 0, 0, 0])],\n [array([0, 0, 0, 0, 0, 0, 0, 0, 0, 0])],\n [array([0, 0, 0, 0, 0, 0, 0, 0, 0, 0])],\n [array([0, 0, 0, 0, 0, 0, 0, 0, 0, 0])],\n [array([0, 0, 0, 0, 0, 0, 0, 0, 0, 0])],\n [array([0, 0, 0, 0, 0, 0, 0, 0, 0, 0])],\n [array([0, 0, 0, 0, 0, 0, 0, 0, 0, 0])],\n [array([0, 0, 0, 0, 0, 0, 0, 0, 0, 0])],\n [array([0, 0, 0, 0, 0, 0, 0, 0, 0, 0])],\n [array([0, 0, 0, 0, 0, 0, 0, 0, 0, 0])],\n [array([0, 0, 0, 0, 0, 0, 0, 0, 0, 0])],\n [array([0, 0, 0, 0, 0, 0, 0, 0, 0, 0])],\n [array([0, 0, 0, 0, 0, 0, 0, 0, 0, 0])],\n [array([0, 0, 0, 0, 0, 0, 0, 0, 0, 0])],\n [array([0, 0, 0, 0, 0, 0, 0, 0, 0, 0])],\n [array([0, 0, 0, 0, 0, 0, 0, 0, 0, 0])],\n [array([0, 0, 0, 0, 0, 0, 0, 0, 0, 0])],\n [array([0, 0, 0, 0, 0, 0, 0, 0, 0, 0])],\n [array([0, 0, 0, 0, 0, 0, 0, 0, 0, 0])],\n [array([0, 0, 0, 0, 0, 0, 0, 0, 0, 0])],\n [array([0, 0, 0, 0, 0, 0, 0, 0, 0, 0])],\n [array([0, 0, 0, 0, 0, 0, 0, 0, 0, 0])],\n [array([0, 0, 0, 0, 0, 0, 0, 0, 0, 0])],\n [array([0, 0, 0, 0, 0, 0, 0, 0, 0, 0])],\n [array([0, 0, 0, 0, 0, 0, 0, 0, 0, 0])],\n [array([0, 0, 0, 0, 0, 0, 0, 0, 0, 0])],\n [array([0, 0, 0, 0, 0, 0, 0, 0, 0, 0])],\n [array([0, 0, 0, 0, 0, 0, 0, 0, 0, 0])],\n [array([0, 0, 0, 0, 0, 0, 0, 0, 0, 0])],\n [array([0, 0, 0, 0, 0, 0, 0, 0, 0, 0])],\n [array([0, 0, 0, 0, 0, 0, 0, 0, 0, 0])],\n [array([0, 0, 0, 0, 0, 0, 0, 0, 0, 0])],\n [array([0, 0, 0, 0, 0, 0, 0, 0, 0, 0])],\n [array([0, 0, 0, 0, 0, 0, 0, 0, 0, 0])],\n [array([0, 0, 0, 0, 0, 0, 0, 0, 0, 0])],\n [array([0, 0, 0, 0, 0, 0, 0, 0, 0, 0])],\n [array([0, 0, 0, 0, 0, 0, 0, 0, 0, 0])],\n [array([0, 0, 0, 0, 0, 0, 0, 0, 0, 0])],\n [array([0, 0, 0, 0, 0, 0, 0, 0, 0, 0])],\n [array([0, 0, 0, 0, 0, 0, 0, 0, 0, 0])],\n [array([0, 0, 0, 0, 0, 0, 0, 0, 0, 0])],\n [array([0, 0, 0, 0, 0, 0, 0, 0, 0, 0])],\n [array([0, 0, 0, 0, 0, 0, 0, 0, 0, 0])],\n [array([0, 0, 0, 0, 0, 0, 0, 0, 0, 0])],\n [array([0, 0, 0, 0, 0, 0, 0, 0, 0, 0])],\n [array([0, 0, 0, 0, 0, 0, 0, 0, 0, 0])],\n [array([0, 0, 0, 0, 0, 0, 0, 0, 0, 0])],\n [array([0, 0, 0, 0, 0, 0, 0, 0, 0, 0])],\n [array([0, 0, 0, 0, 0, 0, 0, 0, 0, 0])],\n [array([0, 0, 0, 0, 0, 0, 0, 0, 0, 0])],\n [array([0, 0, 0, 0, 0, 0, 0, 0, 0, 0])],\n [array([0, 0, 0, 0, 0, 0, 0, 0, 0, 0])],\n [array([0, 0, 0, 0, 0, 0, 0, 0, 0, 0])],\n [array([0, 0, 0, 0, 0, 0, 0, 0, 0, 0])],\n [array([0, 0, 0, 0, 0, 0, 0, 0, 0, 0])],\n [array([0, 0, 0, 0, 0, 0, 0, 0, 0, 0])],\n [array([0, 0, 0, 0, 0, 0, 0, 0, 0, 0])],\n [array([0, 0, 0, 0, 0, 0, 0, 0, 0, 0])],\n [array([0, 0, 0, 0, 0, 0, 0, 0, 0, 0])],\n [array([0, 0, 0, 0, 0, 0, 0, 0, 0, 0])],\n [array([0, 0, 0, 0, 0, 0, 0, 0, 0, 0])],\n [array([0, 0, 0, 0, 0, 0, 0, 0, 0, 0])],\n [array([0, 0, 0, 0, 0, 0, 0, 0, 0, 0])],\n [array([0, 0, 0, 0, 0, 0, 0, 0, 0, 0])],\n [array([0, 0, 0, 0, 0, 0, 0, 0, 0, 0])],\n [array([0, 0, 0, 0, 0, 0, 0, 0, 0, 0])],\n [array([0, 0, 0, 0, 0, 0, 0, 0, 0, 0])],\n [array([0, 0, 0, 0, 0, 0, 0, 0, 0, 0])],\n [array([0, 0, 0, 0, 0, 0, 0, 0, 0, 0])],\n [array([0, 0, 0, 0, 0, 0, 0, 0, 0, 0])],\n [array([0, 0, 0, 0, 0, 0, 0, 0, 0, 0])],\n [array([0, 0, 0, 0, 0, 0, 0, 0, 0, 0])],\n [array([0, 0, 0, 0, 0, 0, 0, 0, 0, 0])],\n [array([0, 0, 0, 0, 0, 0, 0, 0, 0, 0])],\n [array([0, 0, 0, 0, 0, 0, 0, 0, 0, 0])],\n [array([0, 0, 0, 0, 0, 0, 0, 0, 0, 0])],\n [array([0, 0, 0, 0, 0, 0, 0, 0, 0, 0])],\n [array([0, 0, 0, 0, 0, 0, 0, 0, 0, 0])],\n [array([0, 0, 0, 0, 0, 0, 0, 0, 0, 0])],\n [array([0, 0, 0, 0, 0, 0, 0, 0, 0, 0])],\n [array([0, 0, 0, 0, 0, 0, 0, 0, 0, 0])],\n [array([0, 0, 0, 0, 0, 0, 0, 0, 0, 0])],\n [array([0, 0, 0, 0, 0, 0, 0, 0, 0, 0])],\n [array([0, 0, 0, 0, 0, 0, 0, 0, 0, 0])],\n [array([0, 0, 0, 0, 0, 0, 0, 0, 0, 0])],\n [array([0, 0, 0, 0, 0, 0, 0, 0, 0, 0])],\n [array([0, 0, 0, 0, 0, 0, 0, 0, 0, 0])],\n [array([0, 0, 0, 0, 0, 0, 0, 0, 0, 0])],\n [array([0, 0, 0, 0, 0, 0, 0, 0, 0, 0])],\n [array([0, 0, 0, 0, 0, 0, 0, 0, 0, 0])],\n [array([0, 0, 0, 0, 0, 0, 0, 0, 0, 0])],\n [array([0, 0, 0, 0, 0, 0, 0, 0, 0, 0])],\n [array([0, 0, 0, 0, 0, 0, 0, 0, 0, 0])],\n [array([0, 0, 0, 0, 0, 0, 0, 0, 0, 0])],\n [array([0, 0, 0, 0, 0, 0, 0, 0, 0, 0])],\n [array([0, 0, 0, 0, 0, 0, 0, 0, 0, 0])],\n [array([0, 0, 0, 0, 0, 0, 0, 0, 0, 0])],\n [array([0, 0, 0, 0, 0, 0, 0, 0, 0, 0])],\n [array([0, 0, 0, 0, 0, 0, 0, 0, 0, 0])],\n [array([0, 0, 0, 0, 0, 0, 0, 0, 0, 0])],\n [array([0, 0, 0, 0, 0, 0, 0, 0, 0, 0])],\n [array([0, 0, 0, 0, 0, 0, 0, 0, 0, 0])],\n [array([0, 0, 0, 0, 0, 0, 0, 0, 0, 0])],\n [array([0, 0, 0, 0, 0, 0, 0, 0, 0, 0])],\n [array([0, 0, 0, 0, 0, 0, 0, 0, 0, 0])],\n [array([0, 0, 0, 0, 0, 0, 0, 0, 0, 0])],\n [array([0, 0, 0, 0, 0, 0, 0, 0, 0, 0])],\n [array([0, 0, 0, 0, 0, 0, 0, 0, array([0.10487335]), array([0.10487335])],\n        dtype=object)],\n [array([0, 0, 0, 0, 0, 0, 0, 0, 0, 0])],\n [array([0, 0, 0, 0, 0, 0, 0, 0, 0, 0])],\n [array([0, 0, 0, 0, 0, 0, 0, 0, 0, 0])],\n [array([0, 0, 0, 0, 0, 0, 0, 0, 0, 0])],\n [array([0, 0, 0, 0, 0, 0, 0, 0, 0, 0])],\n [array([0, 0, 0, 0, 0, 0, 0, 0, 0, 0])],\n [array([0, 0, 0, 0, 0, 0, 0, 0, 0, 0])],\n [array([0, 0, 0, 0, 0, 0, 0, 0, 0, 0])],\n [array([0, 0, 0, 0, 0, 0, 0, 0, 0, 0])],\n [array([0, 0, 0, 0, 0, 0, 0, 0, 0, 0])],\n [array([0, 0, 0, 0, 0, 0, 0, 0, 0, 0])],\n [array([0, 0, 0, 0, 0, 0, 0, 0, 0, 0])],\n [array([0, 0, 0, 0, 0, 0, 0, 0, 0, 0])],\n [array([0, 0, 0, 0, 0, 0, 0, 0, 0, 0])],\n [array([0, 0, 0, 0, 0, 0, 0, 0, array([0.11586937]), array([0.11586937])],\n        dtype=object)],\n [array([0, 0, 0, 0, 0, 0, 0, 0, 0, 0])],\n [array([0, 0, 0, 0, 0, 0, 0, 0, 0, 0])],\n [array([0, 0, 0, 0, 0, 0, 0, 0, 0, 0])],\n [array([0, 0, 0, 0, 0, 0, 0, 0, 0, 0])],\n [array([0, 0, 0, 0, 0, 0, 0, 0, 0, 0])],\n [array([0, 0, 0, 0, 0, 0, 0, 0, 0, 0])],\n [array([0, 0, 0, 0, 0, 0, 0, 0, 0, 0])],\n [array([0, 0, 0, 0, 0, 0, 0, 0, 0, 0])],\n [array([0, 0, 0, 0, 0, 0, 0, 0, 0, 0])],\n [array([0, 0, 0, 0, 0, 0, 0, 0, 0, 0])],\n [array([0, 0, 0, 0, 0, 0, 0, 0, 0, 0])],\n [array([0, 0, 0, 0, 0, 0, 0, 0, 0, 0])],\n [array([0, 0, 0, 0, 0, 0, 0, 0, 0, 0])],\n [array([0, 0, 0, 0, 0, 0, 0, 0, 0, 0])],\n [array([0, 0, 0, 0, 0, 0, 0, 0, 0, 0])],\n [array([0, 0, 0, 0, 0, 0, 0, 0, 0, 0])],\n [array([0, 0, 0, 0, 0, 0, 0, 0, 0, 0])],\n [array([0, 0, 0, 0, 0, 0, 0, 0, 0, 0])],\n [array([0, 0, 0, 0, 0, 0, 0, 0, 0, 0])],\n [array([0, 0, 0, 0, 0, 0, 0, 0, 0, 0])],\n [array([0, 0, 0, 0, 0, 0, 0, 0, 0, 0])],\n [array([0, 0, 0, 0, 0, 0, 0, 0, 0, 0])],\n [array([0, 0, 0, 0, 0, 0, 0, 0, 0, 0])],\n [array([0, 0, 0, 0, 0, 0, 0, 0, 0, 0])],\n [array([0, 0, 0, 0, 0, 0, 0, 0, 0, 0])],\n [array([0, 0, 0, 0, 0, 0, 0, 0, 0, 0])],\n [array([0, 0, 0, 0, 0, 0, 0, 0, 0, 0])],\n [array([0, 0, 0, 0, 0, 0, 0, 0, 0, 0])],\n [array([0, 0, 0, 0, 0, 0, 0, 0, 0, 0])],\n [array([0, 0, 0, 0, 0, 0, 0, 0, 0, 0])],\n [array([0, 0, 0, 0, 0, 0, 0, 0, 0, 0])],\n [array([0, 0, 0, 0, 0, 0, 0, 0, 0, 0])],\n [array([0, 0, 0, 0, 0, 0, 0, 0, 0, 0])],\n [array([0, 0, 0, 0, 0, 0, 0, 0, 0, 0])],\n [array([0, 0, 0, 0, 0, 0, 0, 0, 0, 0])],\n [array([0, 0, 0, 0, 0, 0, 0, 0, 0, 0])],\n [array([0, 0, 0, 0, 0, 0, 0, 0, 0, 0])],\n [array([0, 0, 0, 0, 0, 0, 0, 0, 0, 0])],\n [array([0, 0, 0, 0, 0, 0, 0, 0, 0, 0])],\n [array([0, 0, 0, 0, 0, 0, 0, 0, 0, 0])],\n [array([0, 0, 0, 0, 0, 0, 0, 0, 0, 0])],\n [array([0, 0, 0, 0, 0, 0, 0, 0, 0, 0])],\n [array([0, 0, 0, 0, 0, 0, 0, 0, 0, 0])],\n [array([0, 0, 0, 0, 0, 0, 0, 0, 0, 0])],\n [array([0, 0, 0, 0, 0, 0, 0, 0, 0, 0])],\n [array([0, 0, 0, 0, 0, 0, 0, 0, 0, 0])],\n [array([0, 0, 0, 0, 0, 0, 0, 0, 0, 0])],\n [array([0, 0, 0, 0, 0, 0, 0, 0, 0, 0])],\n [array([0, 0, 0, 0, 0, 0, 0, 0, 0, 0])],\n [array([0, 0, 0, 0, 0, 0, 0, 0, 0, 0])],\n [array([0, 0, 0, 0, 0, 0, 0, 0, 0, 0])],\n [array([0, 0, 0, 0, 0, 0, 0, 0, 0, 0])],\n [array([0, 0, 0, 0, 0, 0, 0, 0, 0, 0])],\n [array([0, 0, 0, 0, 0, 0, 0, 0, 0, 0])],\n [array([0, 0, 0, 0, 0, 0, 0, 0, 0, 0])],\n [array([0, 0, 0, 0, 0, 0, 0, 0, 0, 0])],\n [array([0, 0, 0, 0, 0, 0, 0, 0, 0, 0])],\n [array([0, 0, 0, 0, 0, 0, 0, 0, 0, 0])],\n [array([0, 0, 0, 0, 0, 0, 0, 0, 0, 0])],\n [array([0, 0, 0, 0, 0, 0, 0, 0, 0, 0])],\n [array([0, 0, 0, 0, 0, 0, 0, 0, 0, 0])],\n [array([0, 0, 0, 0, 0, 0, 0, 0, 0, 0])],\n [array([0, 0, 0, 0, 0, 0, 0, 0, 0, 0])],\n [array([0, 0, 0, 0, 0, 0, 0, 0, 0, 0])],\n [array([0, 0, 0, 0, 0, 0, 0, 0, 0, 0])],\n [array([0, 0, 0, 0, 0, 0, 0, 0, array([0.12980901]), array([0.12980901])],\n        dtype=object)],\n [array([0, 0, 0, 0, 0, 0, 0, 0, 0, 0])],\n [array([0, 0, 0, 0, 0, 0, 0, 0, 0, 0])],\n [array([0, 0, 0, 0, 0, 0, 0, 0, 0, 0])],\n [array([0, 0, 0, 0, 0, 0, 0, 0, 0, 0])],\n [array([0, 0, 0, 0, 0, 0, 0, 0, 0, 0])],\n [array([0, 0, 0, 0, 0, 0, 0, 0, 0, 0])],\n [array([0, 0, 0, 0, 0, 0, 0, 0, 0, 0])],\n [array([0, 0, 0, 0, 0, 0, 0, 0, 0, 0])],\n [array([0, 0, 0, 0, 0, 0, 0, 0, 0, 0])],\n [array([0, 0, 0, 0, 0, 0, 0, 0, 0, 0])],\n [array([0, 0, 0, 0, 0, 0, 0, 0, 0, 0])],\n [array([0, 0, 0, 0, 0, 0, 0, 0, 0, 0])],\n [array([0, 0, 0, 0, 0, 0, 0, 0, 0, 0])],\n [array([0, 0, 0, 0, 0, 0, 0, 0, 0, 0])],\n [array([0, 0, 0, 0, 0, 0, 0, 0, 0, 0])],\n [array([0, 0, 0, 0, 0, 0, 0, 0, 0, 0])],\n [array([0, 0, 0, 0, 0, 0, 0, 0, 0, 0])],\n [array([0, 0, 0, 0, 0, 0, 0, 0, 0, 0])],\n [array([0, 0, 0, 0, 0, 0, 0, 0, 0, 0])],\n [array([0, 0, 0, 0, 0, 0, 0, 0, 0, 0])],\n [array([0, 0, 0, 0, 0, 0, 0, 0, 0, 0])],\n [array([0, 0, 0, 0, 0, 0, 0, 0, 0, 0])],\n [array([0, 0, 0, 0, 0, 0, 0, 0, 0, 0])],\n [array([0, 0, 0, 0, 0, 0, 0, 0, 0, 0])],\n [array([0, 0, 0, 0, 0, 0, 0, 0, 0, 0])],\n [array([0, 0, 0, 0, 0, 0, 0, 0, 0, 0])],\n [array([0, 0, 0, 0, 0, 0, 0, 0, 0, 0])],\n [array([0, 0, 0, 0, 0, 0, 0, 0, 0, 0])],\n [array([0, 0, 0, 0, 0, 0, 0, 0, 0, 0])],\n [array([0, 0, 0, 0, 0, 0, 0, 0, 0, 0])],\n [array([0, 0, 0, 0, 0, 0, 0, 0, 0, 0])],\n [array([0, 0, 0, 0, 0, 0, 0, 0, 0, 0])],\n [array([0, 0, 0, 0, 0, 0, 0, 0, 0, 0])],\n [array([0, 0, 0, 0, 0, 0, 0, 0, 0, 0])],\n [array([0, 0, 0, 0, 0, 0, 0, 0, 0, 0])],\n [array([0, 0, 0, 0, 0, 0, 0, 0, 0, 0])],\n [array([0, 0, 0, 0, 0, 0, 0, 0, 0, 0])],\n [array([0, 0, 0, 0, 0, 0, 0, 0, 0, 0])],\n [array([0, 0, 0, 0, 0, 0, 0, 0, 0, 0])],\n [array([0, 0, 0, 0, 0, 0, 0, 0, 0, 0])],\n [array([0, 0, 0, 0, 0, 0, 0, 0, 0, 0])],\n [array([0, 0, 0, 0, 0, 0, 0, 0, 0, 0])],\n [array([0, 0, 0, 0, 0, 0, 0, 0, 0, 0])],\n [array([0, 0, 0, 0, 0, 0, 0, 0, 0, array([0.11105651])], dtype=object)],\n [array([0, 0, 0, 0, 0, 0, 0, 0, 0, 0])],\n [array([0, 0, 0, 0, 0, 0, 0, 0, 0, 0])],\n [array([0, 0, 0, 0, 0, 0, 0, 0, 0, 0])],\n [array([0, 0, 0, 0, 0, 0, 0, 0, 0, 0])],\n [array([0, 0, 0, 0, 0, 0, 0, 0, 0, 0])],\n [array([0, 0, 0, 0, 0, 0, 0, 0, 0, 0])],\n [array([0, 0, 0, 0, 0, 0, 0, 0, 0, 0])],\n [array([0, 0, 0, 0, 0, 0, 0, 0, 0, 0])],\n [array([0, 0, 0, 0, 0, 0, 0, 0, 0, 0])],\n [array([0, 0, 0, 0, 0, 0, 0, 0, 0, 0])],\n [array([0, 0, 0, 0, 0, 0, 0, 0, 0, 0])],\n [array([0, 0, 0, 0, 0, 0, 0, 0, 0, 0])],\n [array([0, 0, 0, 0, 0, 0, 0, 0, 0, 0])],\n [array([0, 0, 0, 0, 0, 0, 0, 0, 0, 0])],\n [array([0, 0, 0, 0, 0, 0, 0, 0, 0, 0])],\n [array([0, 0, 0, 0, 0, 0, 0, 0, 0, 0])],\n [array([0, 0, 0, 0, 0, 0, 0, 0, 0, 0])],\n [array([0, 0, 0, 0, 0, 0, 0, 0, 0, 0])],\n [array([0, 0, 0, 0, 0, 0, 0, 0, 0, 0])],\n [array([0, 0, 0, 0, 0, 0, 0, 0, 0, 0])],\n [array([0, 0, 0, 0, 0, 0, 0, 0, 0, 0])],\n [array([0, 0, 0, 0, 0, 0, 0, 0, 0, 0])],\n [array([0, 0, 0, 0, 0, 0, 0, array([0.11748241]), array([0.11748241]),\n         array([0.11748241])], dtype=object)],\n [array([0, 0, 0, 0, 0, 0, 0, 0, 0, 0])],\n [array([0, 0, 0, 0, 0, 0, 0, 0, 0, 0])],\n [array([0, 0, 0, 0, 0, 0, 0, 0, 0, 0])],\n [array([0, 0, 0, 0, 0, 0, 0, 0, 0, 0])],\n [array([0, 0, 0, 0, 0, 0, 0, 0, 0, 0])],\n [array([0, 0, 0, 0, 0, 0, 0, 0, 0, 0])],\n [array([0, 0, 0, 0, 0, 0, 0, 0, 0, 0])],\n [array([0, 0, 0, 0, 0, 0, 0, 0, 0, 0])],\n [array([0, 0, 0, 0, 0, 0, 0, 0, 0, 0])],\n [array([0, 0, 0, 0, 0, 0, 0, 0, 0, 0])],\n [array([0, 0, 0, 0, 0, 0, 0, 0, 0, 0])],\n [array([0, 0, 0, 0, 0, 0, 0, 0, 0, 0])],\n [array([0, 0, 0, 0, 0, 0, 0, 0, 0, 0])],\n [array([0, 0, 0, 0, 0, 0, 0, 0, 0, 0])],\n [array([0, 0, 0, 0, 0, 0, 0, 0, 0, 0])],\n [array([0, 0, 0, 0, 0, 0, 0, 0, 0, 0])],\n [array([0, 0, 0, 0, 0, 0, 0, 0, 0, 0])],\n [array([0, 0, 0, 0, 0, 0, 0, 0, 0, 0])],\n [array([0, 0, 0, 0, 0, 0, 0, 0, 0, 0])],\n [array([0, 0, 0, 0, 0, 0, 0, 0, 0, 0])],\n [array([0, 0, 0, 0, 0, 0, 0, 0, 0, 0])],\n [array([0, 0, 0, 0, 0, 0, 0, 0, 0, 0])],\n [array([0, 0, 0, 0, 0, 0, 0, 0, 0, 0])],\n [array([0, 0, 0, 0, 0, 0, 0, 0, 0, 0])],\n [array([0, 0, 0, 0, 0, 0, 0, 0, 0, 0])],\n [array([0, 0, 0, 0, 0, 0, 0, 0, 0, 0])],\n [array([0, 0, 0, 0, 0, 0, 0, 0, 0, 0])],\n [array([0, 0, 0, 0, 0, 0, 0, 0, 0, 0])],\n [array([0, 0, 0, 0, 0, 0, 0, 0, 0, 0])],\n [array([0, 0, 0, 0, 0, 0, 0, 0, 0, 0])],\n [array([0, 0, 0, 0, 0, 0, 0, 0, 0, 0])],\n [array([0, 0, 0, 0, 0, 0, 0, 0, 0, 0])],\n [array([0, 0, 0, 0, 0, 0, 0, 0, 0, 0])],\n [array([0, 0, 0, 0, 0, 0, 0, 0, 0, 0])],\n [array([0, 0, 0, 0, 0, 0, 0, 0, 0, 0])],\n [array([0, 0, 0, 0, 0, 0, 0, 0, 0, 0])],\n [array([0, 0, 0, 0, 0, 0, 0, 0, 0, 0])],\n [array([0, 0, 0, 0, 0, 0, 0, 0, 0, 0])],\n [array([0, 0, 0, 0, 0, 0, 0, 0, 0, 0])],\n [array([0, 0, 0, 0, 0, 0, 0, 0, 0, 0])],\n [array([0, 0, 0, 0, 0, 0, 0, 0, 0, 0])],\n [array([0, 0, 0, 0, 0, 0, 0, 0, 0, 0])],\n [array([0, 0, 0, 0, 0, 0, 0, 0, 0, 0])],\n [array([0, 0, 0, 0, 0, 0, 0, 0, 0, 0])],\n [array([0, 0, 0, 0, 0, 0, 0, 0, 0, 0])],\n [array([0, 0, 0, 0, 0, 0, 0, 0, 0, 0])],\n [array([0, 0, 0, 0, 0, 0, 0, 0, 0, 0])],\n [array([0, 0, 0, 0, 0, 0, 0, 0, 0, 0])],\n [array([0, 0, 0, 0, 0, 0, 0, 0, 0, 0])],\n [array([0, 0, 0, 0, 0, 0, 0, 0, 0, 0])],\n [array([0, 0, 0, 0, 0, 0, 0, 0, 0, 0])],\n [array([0, 0, 0, 0, 0, 0, 0, 0, 0, 0])],\n [array([0, 0, 0, 0, 0, 0, 0, 0, 0, 0])],\n [array([0, 0, 0, 0, 0, 0, 0, 0, 0, 0])],\n [array([0, 0, 0, 0, 0, 0, 0, 0, 0, 0])],\n [array([0, 0, 0, 0, 0, 0, 0, 0, 0, 0])],\n [array([0, 0, 0, 0, 0, 0, 0, 0, 0, 0])],\n [array([0, 0, 0, 0, 0, 0, 0, 0, 0, 0])],\n [array([0, 0, 0, 0, 0, 0, 0, 0, 0, 0])],\n [array([0, 0, 0, 0, 0, 0, 0, 0, 0, 0])],\n [array([0, 0, 0, 0, 0, 0, 0, 0, 0, 0])],\n [array([0, 0, 0, 0, 0, 0, 0, 0, 0, 0])],\n [array([0, 0, 0, 0, 0, 0, 0, 0, 0, 0])],\n [array([0, 0, 0, 0, 0, 0, 0, 0, 0, 0])],\n [array([0, 0, 0, 0, 0, 0, 0, 0, 0, 0])],\n [array([0, 0, 0, 0, 0, 0, 0, 0, 0, 0])],\n [array([0, 0, 0, 0, 0, 0, 0, 0, 0, 0])],\n [array([0, 0, 0, 0, 0, 0, 0, 0, 0, 0])],\n [array([0, 0, 0, 0, 0, 0, 0, 0, 0, 0])],\n [array([0, 0, 0, 0, 0, 0, 0, 0, 0, 0])],\n [array([0, 0, 0, 0, 0, 0, 0, 0, 0, 0])],\n [array([0, 0, 0, 0, 0, 0, 0, 0, 0, 0])],\n [array([0, 0, 0, 0, 0, 0, 0, 0, 0, 0])],\n [array([0, 0, 0, 0, 0, 0, 0, 0, 0, 0])],\n [array([0, 0, 0, 0, 0, 0, 0, 0, 0, 0])],\n [array([0, 0, 0, 0, 0, 0, 0, 0, 0, 0])],\n [array([0, 0, 0, 0, 0, 0, 0, 0, 0, 0])],\n [array([0, 0, 0, 0, 0, 0, 0, 0, 0, 0])],\n [array([0, 0, 0, 0, 0, 0, 0, 0, 0, 0])],\n [array([0, 0, 0, 0, 0, 0, 0, 0, 0, 0])],\n [array([0, 0, 0, 0, 0, 0, 0, 0, 0, 0])],\n [array([0, 0, 0, 0, 0, 0, 0, 0, 0, 0])],\n [array([0, 0, 0, 0, 0, 0, 0, 0, 0, 0])],\n [array([0, 0, 0, 0, 0, 0, 0, 0, 0, 0])],\n [array([0, 0, 0, 0, 0, 0, 0, 0, 0, 0])],\n [array([0, 0, 0, 0, 0, 0, 0, 0, 0, 0])],\n [array([0, 0, 0, 0, 0, 0, 0, 0, 0, 0])],\n [array([0, 0, 0, 0, 0, 0, 0, 0, 0, 0])],\n [array([0, 0, 0, 0, 0, 0, 0, 0, 0, 0])],\n [array([0, 0, 0, 0, 0, 0, 0, 0, 0, 0])],\n [array([0, 0, 0, 0, 0, 0, 0, 0, 0, 0])],\n [array([0, 0, 0, 0, 0, 0, 0, 0, 0, 0])],\n [array([0, 0, 0, 0, 0, 0, 0, 0, 0, 0])],\n [array([0, 0, 0, 0, 0, 0, 0, 0, 0, 0])],\n [array([0, 0, 0, 0, 0, 0, 0, 0, 0, 0])],\n [array([0, 0, 0, 0, 0, 0, 0, 0, 0, 0])],\n [array([0, 0, 0, 0, 0, 0, 0, 0, 0, 0])],\n [array([0, 0, 0, 0, 0, 0, 0, 0, 0, 0])],\n [array([0, 0, 0, 0, 0, 0, 0, 0, 0, 0])],\n [array([0, 0, 0, 0, 0, 0, 0, 0, 0, 0])],\n [array([0, 0, 0, 0, 0, 0, 0, 0, 0, 0])],\n [array([0, 0, 0, 0, 0, 0, 0, 0, 0, 0])],\n [array([0, 0, 0, 0, 0, 0, 0, 0, 0, 0])],\n [array([0, 0, 0, 0, 0, 0, 0, 0, 0, 0])],\n [array([0, 0, 0, 0, 0, 0, 0, 0, 0, 0])],\n [array([0, 0, 0, 0, 0, 0, 0, 0, 0, 0])],\n [array([0, 0, 0, 0, 0, 0, 0, 0, 0, 0])],\n [array([0, 0, 0, 0, 0, 0, 0, 0, 0, 0])],\n [array([0, 0, 0, 0, 0, 0, 0, 0, 0, 0])],\n [array([0, 0, 0, 0, 0, 0, 0, 0, 0, 0])],\n [array([0, 0, 0, 0, 0, 0, 0, 0, 0, 0])],\n [array([0, 0, 0, 0, 0, 0, 0, 0, 0, 0])],\n [array([0, 0, 0, 0, 0, 0, 0, 0, 0, 0])],\n [array([0, 0, 0, 0, 0, 0, 0, 0, 0, 0])],\n [array([0, 0, 0, 0, 0, 0, 0, 0, 0, 0])],\n [array([0, 0, 0, 0, 0, 0, 0, 0, 0, 0])],\n [array([0, 0, 0, 0, 0, 0, 0, 0, 0, 0])],\n [array([0, 0, 0, 0, 0, 0, 0, 0, 0, 0])],\n [array([0, 0, 0, 0, 0, 0, 0, 0, 0, 0])],\n [array([0, 0, 0, 0, 0, 0, 0, 0, 0, 0])],\n [array([0, 0, 0, 0, 0, 0, 0, array([0.09632887]), array([0.09632887]),\n         array([0.09632887])], dtype=object)],\n [array([0, 0, 0, 0, 0, 0, 0, 0, 0, 0])],\n [array([0, 0, 0, 0, 0, 0, 0, 0, 0, 0])],\n [array([0, 0, 0, 0, 0, 0, 0, 0, 0, 0])],\n [array([0, 0, 0, 0, 0, 0, 0, 0, 0, 0])],\n [array([0, 0, 0, 0, 0, 0, 0, 0, 0, 0])],\n [array([0, 0, 0, 0, 0, 0, 0, 0, 0, 0])],\n [array([0, 0, 0, array([0.09344589]), array([0.09344589]),\n         array([0.09344589]), array([0.09344589]), array([0.09344589]),\n         array([0.09344589]), array([0.09344589])], dtype=object)],\n [array([0, 0, 0, 0, 0, 0, 0, 0, 0, 0])],\n [array([0, 0, 0, 0, 0, 0, 0, 0, 0, 0])],\n [array([0, 0, 0, 0, 0, 0, 0, 0, 0, 0])],\n [array([0, 0, 0, 0, 0, 0, 0, 0, 0, 0])],\n [array([0, 0, 0, 0, 0, 0, 0, 0, 0, 0])],\n [array([0, 0, 0, 0, 0, 0, 0, 0, 0, 0])],\n [array([0, 0, 0, 0, 0, 0, 0, 0, 0, 0])],\n [array([0, 0, 0, 0, 0, 0, 0, 0, 0, 0])],\n [array([0, 0, 0, 0, 0, 0, 0, 0, 0, 0])],\n [array([0, 0, 0, 0, 0, 0, 0, 0, 0, 0])],\n [array([0, 0, 0, 0, 0, 0, 0, 0, 0, 0])],\n [array([0, 0, 0, 0, 0, 0, 0, 0, 0, 0])],\n [array([0, 0, 0, 0, 0, 0, 0, 0, 0, 0])],\n [array([0, 0, 0, 0, 0, 0, 0, 0, 0, 0])],\n [array([0, 0, 0, 0, 0, 0, 0, 0, 0, 0])],\n [array([0, 0, 0, 0, 0, 0, 0, 0, 0, 0])],\n [array([0, 0, 0, 0, 0, 0, 0, 0, 0, 0])],\n [array([0, 0, 0, 0, 0, 0, 0, 0, 0, 0])],\n [array([0, 0, 0, 0, 0, 0, 0, 0, 0, 0])],\n [array([0, 0, 0, 0, 0, 0, 0, 0, 0, 0])],\n [array([0, 0, 0, 0, 0, 0, 0, 0, 0, 0])],\n [array([0, 0, 0, 0, 0, 0, 0, 0, 0, 0])],\n [array([0, 0, 0, 0, 0, 0, 0, 0, 0, 0])],\n [array([0, 0, 0, 0, 0, 0, 0, 0, 0, 0])],\n [array([0, 0, 0, 0, 0, 0, 0, 0, 0, 0])],\n [array([0, 0, 0, 0, 0, 0, 0, 0, 0, 0])],\n [array([0, 0, 0, 0, 0, 0, 0, 0, 0, 0])],\n [array([0, 0, 0, 0, 0, 0, 0, 0, 0, 0])],\n [array([0, 0, 0, 0, 0, 0, 0, 0, 0, 0])],\n [array([0, 0, 0, 0, 0, 0, 0, 0, 0, 0])],\n [array([0, 0, 0, 0, 0, 0, 0, 0, 0, 0])],\n [array([0, 0, 0, 0, 0, 0, 0, 0, 0, 0])],\n [array([0, 0, 0, 0, 0, 0, 0, 0, 0, 0])],\n [array([0, 0, 0, 0, 0, 0, 0, 0, 0, 0])],\n [array([0, 0, 0, 0, 0, 0, 0, 0, 0, 0])],\n [array([0, 0, 0, 0, 0, 0, 0, 0, 0, 0])],\n [array([0, 0, 0, 0, 0, 0, 0, 0, 0, 0])],\n [array([0, 0, 0, 0, 0, 0, 0, 0, 0, 0])],\n [array([0, 0, 0, 0, 0, 0, 0, 0, 0, 0])],\n [array([0, 0, 0, 0, 0, 0, 0, 0, 0, 0])],\n [array([0, 0, 0, 0, 0, 0, 0, 0, 0, 0])],\n [array([0, 0, 0, 0, 0, 0, 0, 0, 0, 0])],\n [array([0, 0, 0, 0, 0, 0, 0, 0, 0, 0])],\n [array([0, 0, 0, 0, 0, 0, 0, 0, 0, 0])],\n [array([0, 0, 0, 0, 0, 0, 0, 0, 0, 0])],\n [array([0, 0, 0, 0, 0, 0, 0, 0, 0, 0])],\n [array([0, 0, 0, 0, 0, 0, 0, 0, 0, 0])],\n [array([0, 0, 0, 0, 0, 0, 0, 0, 0, 0])],\n [array([0, 0, 0, 0, 0, 0, 0, 0, 0, array([0.11234905])], dtype=object)],\n [array([0, 0, 0, 0, 0, 0, 0, 0, 0, 0])],\n [array([0, 0, 0, 0, 0, 0, 0, 0, 0, 0])],\n [array([0, 0, 0, 0, 0, 0, 0, 0, 0, 0])],\n [array([0, 0, 0, 0, array([0.11195612]), array([0.11195612]),\n         array([0.11195612]), array([0.11195612]), array([0.11195612]),\n         array([0.11195612])], dtype=object)],\n [array([0, 0, 0, 0, 0, 0, 0, 0, 0, 0])],\n [array([0, 0, 0, 0, 0, 0, 0, 0, 0, 0])],\n [array([0, 0, 0, 0, 0, 0, 0, 0, 0, 0])],\n [array([0, 0, 0, 0, 0, 0, 0, 0, 0, 0])],\n [array([0, 0, 0, 0, 0, 0, 0, 0, 0, 0])],\n [array([0, 0, 0, 0, 0, 0, 0, 0, 0, 0])],\n [array([0, 0, 0, 0, 0, 0, 0, 0, 0, 0])],\n [array([0, 0, 0, 0, 0, 0, 0, 0, 0, array([0.18093229])], dtype=object)],\n [array([0, 0, 0, 0, 0, 0, 0, 0, 0, 0])],\n [array([0, 0, 0, 0, 0, 0, 0, 0, 0, 0])],\n [array([0, 0, 0, 0, 0, 0, 0, 0, 0, 0])],\n [array([0, 0, 0, 0, 0, 0, 0, 0, 0, 0])],\n [array([0, 0, 0, 0, 0, 0, 0, 0, 0, 0])],\n [array([0, 0, 0, 0, 0, 0, 0, 0, 0, 0])],\n [array([0, 0, 0, 0, 0, 0, 0, 0, 0, 0])],\n [array([0, 0, 0, 0, 0, 0, 0, 0, 0, 0])],\n [array([0, 0, 0, 0, 0, 0, 0, 0, 0, 0])],\n [array([0, 0, 0, 0, 0, 0, 0, 0, 0, 0])],\n [array([0, 0, 0, 0, 0, 0, 0, 0, 0, 0])],\n [array([0, 0, 0, 0, 0, 0, 0, 0, 0, 0])],\n [array([0, 0, 0, 0, 0, 0, 0, 0, 0, 0])],\n [array([0, 0, 0, 0, 0, 0, 0, 0, 0, 0])],\n [array([0, 0, 0, 0, 0, 0, 0, 0, 0, 0])],\n [array([0, 0, 0, 0, 0, 0, 0, 0, 0, 0])],\n [array([0, 0, 0, 0, 0, 0, 0, 0, 0, 0])],\n [array([0, 0, 0, 0, 0, 0, 0, 0, 0, 0])],\n [array([0, 0, 0, 0, 0, 0, 0, 0, 0, 0])],\n [array([0, 0, 0, 0, 0, 0, 0, 0, 0, 0])],\n [array([0, 0, 0, 0, 0, 0, 0, 0, 0, 0])],\n [array([0, 0, 0, 0, 0, 0, 0, 0, 0, 0])],\n [array([0, 0, 0, 0, 0, 0, 0, 0, 0, 0])],\n [array([0, 0, 0, 0, 0, 0, 0, 0, 0, 0])],\n [array([0, 0, 0, 0, 0, 0, 0, 0, 0, 0])],\n [array([0, 0, 0, 0, 0, 0, 0, 0, 0, 0])],\n [array([0, 0, 0, 0, 0, 0, 0, 0, 0, 0])],\n [array([0, 0, 0, 0, 0, 0, 0, 0, 0, 0])],\n [array([0, 0, 0, 0, 0, 0, 0, 0, 0, 0])],\n [array([0, 0, 0, 0, 0, 0, 0, 0, 0, 0])],\n [array([0, 0, 0, 0, 0, 0, 0, 0, 0, 0])],\n [array([0, 0, 0, 0, 0, 0, 0, 0, 0, 0])],\n [array([0, 0, 0, 0, 0, 0, 0, 0, 0, 0])],\n [array([0, 0, 0, 0, 0, 0, 0, 0, 0, 0])],\n [array([0, 0, 0, 0, 0, 0, 0, 0, 0, 0])],\n [array([0, 0, 0, 0, 0, 0, 0, 0, 0, 0])],\n [array([0, 0, 0, 0, 0, 0, 0, 0, 0, 0])],\n [array([0, 0, 0, 0, 0, 0, 0, 0, 0, 0])],\n [array([0, 0, 0, 0, 0, 0, 0, 0, 0, 0])],\n [array([0, 0, 0, 0, 0, 0, 0, 0, 0, 0])],\n [array([0, 0, 0, 0, 0, 0, 0, 0, 0, 0])],\n [array([0, 0, 0, 0, 0, 0, 0, 0, 0, 0])],\n [array([0, 0, 0, 0, 0, 0, 0, 0, 0, 0])],\n [array([0, 0, 0, 0, 0, 0, 0, 0, 0, 0])],\n [array([0, 0, 0, 0, 0, 0, 0, 0, 0, 0])],\n [array([0, 0, 0, 0, 0, 0, 0, 0, 0, 0])],\n [array([0, 0, 0, 0, 0, 0, 0, 0, 0, 0])],\n [array([0, 0, 0, 0, 0, 0, 0, 0, 0, 0])],\n [array([0, 0, 0, 0, 0, 0, 0, 0, 0, 0])],\n [array([0, 0, 0, 0, 0, 0, 0, 0, 0, 0])],\n [array([0, 0, 0, 0, 0, 0, 0, 0, 0, 0])],\n [array([0, 0, 0, 0, 0, 0, 0, 0, 0, 0])],\n [array([0, 0, 0, 0, 0, 0, 0, 0, 0, 0])],\n [array([0, 0, 0, 0, 0, 0, 0, 0, 0, 0])],\n [array([0, 0, 0, 0, 0, 0, 0, 0, 0, 0])],\n [array([0, 0, 0, 0, 0, 0, 0, 0, 0, 0])],\n [array([0, 0, 0, 0, 0, 0, 0, 0, 0, 0])],\n [array([0, 0, 0, 0, 0, 0, 0, 0, 0, 0])],\n [array([0, 0, 0, 0, 0, 0, 0, 0, 0, 0])],\n [array([0, 0, 0, 0, 0, 0, 0, 0, 0, 0])],\n [array([0, 0, 0, 0, 0, 0, 0, 0, 0, 0])],\n [array([0, 0, 0, 0, 0, 0, 0, 0, 0, 0])],\n [array([0, 0, 0, 0, 0, 0, 0, 0, 0, 0])],\n [array([0, 0, 0, 0, 0, 0, 0, 0, 0, 0])],\n [array([0, 0, 0, 0, 0, 0, 0, 0, 0, 0])],\n [array([0, 0, 0, 0, 0, 0, 0, 0, 0, 0])],\n [array([0, 0, 0, 0, 0, 0, 0, 0, 0, 0])],\n [array([0, 0, 0, 0, 0, 0, 0, 0, 0, 0])],\n [array([0, 0, 0, 0, 0, 0, 0, 0, 0, 0])],\n [array([0, 0, 0, 0, 0, 0, 0, 0, 0, 0])],\n [array([0, 0, 0, 0, 0, 0, 0, 0, 0, 0])],\n [array([0, 0, 0, 0, 0, 0, 0, 0, 0, 0])],\n [array([0, 0, 0, 0, 0, 0, 0, 0, 0, 0])],\n [array([0, 0, 0, 0, 0, 0, 0, 0, 0, 0])],\n [array([0, 0, 0, 0, 0, 0, 0, 0, 0, 0])],\n [array([0, 0, 0, 0, 0, 0, 0, 0, 0, 0])],\n [array([0, 0, 0, 0, 0, 0, 0, 0, 0, 0])],\n [array([0, 0, 0, 0, 0, 0, 0, 0, 0, 0])],\n [array([0, 0, 0, 0, 0, 0, 0, 0, 0, 0])],\n [array([0, 0, 0, 0, 0, 0, 0, 0, 0, 0])],\n [array([0, 0, 0, 0, 0, 0, 0, 0, 0, 0])],\n [array([0, 0, 0, 0, 0, 0, 0, 0, 0, 0])],\n [array([0, 0, 0, 0, 0, 0, 0, 0, 0, 0])],\n [array([0, 0, 0, 0, 0, 0, 0, 0, 0, 0])],\n [array([0, 0, 0, 0, 0, 0, 0, 0, 0, 0])],\n [array([0, 0, 0, 0, 0, 0, 0, 0, 0, 0])],\n [array([0, 0, 0, 0, 0, 0, 0, 0, 0, 0])],\n [array([0, 0, 0, 0, 0, 0, 0, 0, 0, 0])],\n [array([0, 0, 0, 0, 0, 0, 0, 0, 0, 0])],\n [array([0, 0, 0, 0, 0, 0, 0, 0, 0, 0])],\n [array([0, 0, 0, 0, 0, 0, 0, 0, 0, 0])],\n [array([0, 0, 0, 0, 0, 0, 0, 0, 0, 0])],\n [array([0, 0, 0, 0, 0, 0, 0, 0, 0, 0])],\n [array([0, 0, 0, 0, 0, 0, 0, 0, 0, 0])],\n [array([0, 0, 0, 0, 0, 0, 0, 0, 0, 0])],\n [array([0, 0, 0, 0, 0, 0, 0, 0, 0, 0])],\n [array([0, 0, 0, 0, 0, 0, 0, 0, 0, 0])],\n [array([0, 0, 0, 0, 0, 0, 0, 0, 0, 0])],\n [array([0, 0, 0, 0, 0, 0, 0, 0, 0, 0])],\n [array([0, 0, 0, 0, 0, 0, 0, 0, 0, 0])],\n [array([0, 0, 0, 0, 0, 0, 0, 0, 0, 0])],\n [array([0, 0, 0, 0, 0, 0, 0, 0, 0, 0])],\n [array([0, 0, 0, 0, 0, 0, 0, 0, 0, 0])],\n [array([0, 0, 0, 0, 0, 0, 0, 0, 0, 0])],\n [array([0, 0, 0, 0, 0, 0, 0, 0, 0, 0])],\n [array([0, 0, 0, 0, 0, 0, 0, 0, 0, 0])],\n [array([0, 0, 0, 0, 0, 0, 0, 0, 0, 0])],\n [array([0, 0, 0, 0, 0, 0, 0, 0, 0, 0])],\n [array([0, 0, 0, 0, 0, 0, 0, 0, 0, 0])],\n [array([0, 0, 0, 0, 0, 0, 0, 0, 0, 0])],\n [array([0, 0, 0, 0, 0, 0, 0, 0, 0, 0])],\n [array([0, 0, 0, 0, 0, 0, 0, 0, 0, 0])],\n [array([0, 0, 0, 0, 0, 0, 0, 0, 0, 0])],\n [array([0, 0, 0, 0, 0, 0, 0, 0, 0, 0])],\n [array([0, 0, 0, 0, 0, 0, 0, 0, 0, 0])],\n [array([0, 0, 0, 0, 0, 0, 0, 0, 0, 0])],\n [array([0, 0, 0, 0, 0, 0, 0, 0, 0, 0])],\n [array([0, 0, 0, 0, 0, 0, 0, 0, 0, 0])],\n [array([0, 0, 0, 0, 0, 0, 0, 0, 0, 0])],\n [array([0, 0, 0, 0, 0, 0, 0, 0, 0, 0])],\n [array([0, 0, 0, 0, 0, 0, 0, 0, 0, 0])],\n [array([0, 0, 0, 0, 0, 0, 0, 0, 0, 0])],\n [array([0, 0, 0, 0, 0, 0, 0, 0, 0, 0])],\n [array([0, 0, 0, 0, 0, 0, 0, 0, 0, 0])],\n [array([0, 0, 0, 0, 0, 0, 0, 0, 0, 0])],\n [array([0, 0, 0, 0, 0, 0, 0, 0, 0, 0])],\n [array([0, 0, 0, 0, 0, 0, 0, 0, 0, 0])],\n [array([0, 0, 0, 0, 0, 0, 0, 0, 0, 0])],\n [array([0, 0, 0, 0, 0, 0, 0, 0, 0, 0])],\n [array([0, 0, 0, 0, 0, 0, 0, 0, 0, 0])],\n [array([0, 0, 0, 0, 0, 0, 0, 0, 0, 0])],\n [array([0, 0, 0, 0, 0, 0, 0, 0, 0, 0])],\n [array([0, 0, 0, 0, 0, 0, 0, 0, 0, 0])],\n [array([0, 0, 0, 0, 0, 0, 0, 0, 0, 0])],\n [array([0, 0, 0, 0, 0, 0, 0, 0, 0, 0])],\n [array([0, 0, 0, 0, 0, 0, 0, 0, 0, 0])],\n [array([0, 0, 0, 0, 0, 0, 0, 0, 0, 0])],\n [array([0, 0, 0, 0, 0, 0, 0, 0, 0, 0])],\n [array([0, 0, 0, 0, 0, 0, 0, 0, 0, 0])],\n [array([0, 0, 0, 0, 0, 0, 0, 0, 0, 0])],\n [array([0, 0, 0, 0, 0, 0, 0, 0, 0, 0])],\n [array([0, 0, 0, 0, 0, 0, 0, 0, 0, 0])],\n [array([0, 0, 0, 0, 0, 0, 0, 0, 0, 0])],\n [array([0, 0, 0, 0, 0, 0, 0, 0, 0, 0])],\n [array([0, 0, 0, 0, 0, 0, 0, 0, 0, 0])],\n [array([0, 0, 0, 0, 0, 0, 0, 0, 0, 0])],\n [array([0, 0, 0, 0, 0, 0, 0, 0, 0, 0])],\n [array([0, 0, 0, 0, 0, 0, 0, 0, 0, 0])],\n [array([0, 0, 0, 0, 0, 0, 0, 0, 0, 0])],\n [array([0, 0, 0, 0, 0, 0, 0, 0, 0, 0])],\n [array([0, 0, 0, 0, 0, 0, 0, 0, 0, 0])],\n [array([0, 0, 0, 0, 0, 0, 0, 0, 0, 0])],\n [array([0, 0, 0, 0, 0, 0, 0, 0, 0, 0])],\n [array([0, 0, 0, 0, 0, 0, 0, 0, 0, 0])],\n [array([0, 0, 0, 0, 0, 0, 0, 0, 0, 0])],\n [array([0, 0, 0, 0, 0, 0, 0, 0, 0, 0])],\n [array([0, 0, 0, 0, 0, 0, 0, 0, 0, 0])],\n [array([0, 0, 0, 0, 0, 0, 0, 0, 0, 0])],\n [array([0, 0, 0, 0, 0, 0, 0, 0, 0, 0])],\n [array([0, 0, 0, 0, 0, 0, 0, 0, 0, 0])],\n [array([0, 0, 0, 0, 0, 0, 0, 0, 0, 0])],\n [array([0, 0, 0, 0, 0, 0, 0, 0, 0, 0])],\n [array([0, 0, 0, 0, 0, 0, 0, 0, 0, 0])],\n [array([0, 0, 0, 0, 0, 0, 0, 0, 0, 0])],\n [array([0, 0, 0, 0, 0, 0, 0, 0, 0, 0])],\n [array([0, 0, 0, 0, 0, 0, 0, 0, 0, 0])],\n [array([0, 0, 0, 0, 0, 0, 0, 0, 0, 0])],\n [array([0, 0, 0, 0, 0, 0, 0, 0, 0, 0])],\n [array([0, 0, 0, 0, 0, 0, 0, 0, 0, 0])],\n [array([0, 0, 0, 0, 0, 0, 0, 0, 0, 0])],\n [array([0, 0, 0, 0, 0, 0, 0, 0, 0, 0])],\n [array([0, 0, 0, 0, 0, 0, 0, 0, 0, 0])],\n [array([0, 0, 0, 0, 0, 0, 0, 0, 0, 0])],\n [array([0, 0, 0, 0, 0, 0, 0, 0, 0, 0])],\n [array([0, 0, 0, 0, 0, 0, 0, 0, 0, 0])],\n [array([0, 0, 0, 0, 0, 0, 0, 0, 0, 0])],\n [array([0, 0, 0, 0, 0, 0, 0, 0, 0, 0])],\n [array([0, 0, 0, 0, 0, 0, 0, 0, 0, 0])],\n [array([0, 0, 0, 0, 0, 0, 0, 0, 0, 0])],\n [array([0, 0, 0, 0, 0, 0, 0, 0, 0, 0])],\n [array([0, 0, 0, 0, 0, 0, 0, 0, 0, 0])],\n [array([0, 0, 0, 0, 0, 0, 0, 0, 0, 0])],\n [array([0, 0, 0, 0, 0, 0, 0, 0, 0, 0])],\n [array([0, 0, 0, 0, 0, 0, 0, 0, 0, 0])],\n [array([0, 0, 0, 0, 0, 0, 0, 0, 0, 0])],\n [array([0, 0, 0, 0, 0, 0, 0, 0, 0, 0])],\n [array([0, 0, 0, 0, 0, 0, 0, 0, 0, 0])],\n [array([0, 0, 0, 0, 0, 0, 0, 0, 0, 0])],\n [array([0, 0, 0, 0, 0, 0, 0, 0, 0, 0])],\n [array([0, 0, 0, 0, 0, 0, 0, 0, 0, 0])],\n [array([0, 0, 0, 0, 0, 0, 0, 0, 0, 0])],\n [array([0, 0, 0, 0, 0, 0, 0, 0, 0, 0])],\n [array([0, 0, 0, 0, 0, 0, 0, 0, 0, 0])],\n [array([0, 0, 0, 0, 0, 0, 0, 0, 0, 0])],\n [array([0, 0, 0, 0, 0, 0, 0, 0, 0, 0])],\n [array([0, 0, 0, 0, 0, 0, 0, 0, 0, 0])],\n [array([0, 0, 0, 0, 0, 0, 0, 0, 0, 0])],\n [array([0, 0, 0, 0, 0, 0, 0, 0, 0, 0])],\n [array([0, 0, 0, 0, 0, 0, 0, 0, 0, 0])],\n [array([0, 0, 0, 0, 0, 0, 0, 0, 0, 0])],\n [array([0, 0, 0, 0, 0, 0, 0, 0, 0, 0])],\n [array([0, 0, 0, 0, 0, 0, 0, 0, 0, 0])],\n [array([0, 0, 0, 0, 0, 0, 0, 0, 0, 0])],\n [array([0, 0, 0, 0, 0, 0, 0, 0, 0, 0])],\n [array([0, 0, 0, 0, 0, 0, 0, 0, 0, 0])],\n [array([0, 0, 0, 0, 0, 0, 0, 0, 0, 0])],\n [array([0, 0, 0, 0, 0, 0, 0, 0, 0, 0])],\n [array([0, 0, 0, 0, 0, 0, 0, 0, 0, 0])],\n [array([0, 0, 0, 0, 0, 0, 0, 0, 0, 0])],\n [array([0, 0, 0, 0, 0, 0, 0, 0, 0, 0])],\n [array([0, 0, 0, 0, 0, 0, 0, 0, 0, 0])],\n [array([0, 0, 0, 0, 0, 0, 0, 0, 0, 0])],\n [array([0, 0, 0, 0, 0, 0, 0, 0, 0, 0])],\n [array([0, 0, 0, 0, 0, 0, 0, 0, 0, 0])],\n [array([0, 0, 0, 0, 0, 0, 0, 0, 0, 0])],\n [array([0, 0, 0, 0, 0, 0, 0, 0, 0, 0])],\n [array([0, 0, 0, 0, 0, 0, 0, array([0.1073692]), array([0.1073692]),\n         array([0.1073692])], dtype=object)],\n [array([0, 0, 0, 0, 0, 0, 0, 0, 0, 0])],\n [array([0, 0, 0, 0, 0, 0, 0, 0, 0, 0])],\n [array([0, 0, 0, 0, 0, 0, 0, 0, 0, 0])],\n [array([0, 0, 0, 0, 0, 0, 0, 0, 0, 0])],\n [array([0, 0, 0, 0, array([0.11418383]), array([0.11418383]),\n         array([0.11418383]), array([0.11418383]), array([0.11418383]),\n         array([0.11418383])], dtype=object)],\n [array([0, 0, 0, 0, 0, 0, 0, 0, 0, 0])],\n [array([0, 0, 0, 0, 0, 0, 0, 0, 0, 0])],\n [array([0, 0, 0, 0, 0, 0, 0, 0, 0, 0])],\n [array([0, 0, 0, 0, 0, 0, 0, 0, 0, 0])],\n [array([0, 0, 0, 0, 0, 0, 0, 0, 0, 0])],\n [array([0, 0, 0, 0, 0, 0, 0, 0, 0, 0])],\n [array([0, 0, 0, 0, 0, 0, 0, 0, 0, 0])],\n [array([0, 0, 0, 0, 0, 0, 0, 0, 0, 0])],\n [array([0, 0, 0, 0, 0, 0, 0, 0, 0, 0])],\n ...]"
     },
     "execution_count": 130,
     "metadata": {},
     "output_type": "execute_result"
    }
   ],
   "source": [
    "kinhoms[1]"
   ]
  },
  {
   "cell_type": "code",
   "execution_count": 131,
   "metadata": {},
   "outputs": [
    {
     "data": {
      "text/plain": "array([[0, array([14.1325988]), array([63.22523872]),\n        array([124.59054971]), array([196.59984312]),\n        array([292.78245647]), array([404.55983713]),\n        array([533.63251202]), array([678.78252395]),\n        array([840.34420997])]], dtype=object)"
     },
     "execution_count": 131,
     "metadata": {},
     "output_type": "execute_result"
    }
   ],
   "source": [
    "kinhoms[2]"
   ]
  },
  {
   "cell_type": "markdown",
   "metadata": {},
   "source": [
    "# Calculate hull on full set"
   ]
  },
  {
   "cell_type": "code",
   "execution_count": 132,
   "metadata": {},
   "outputs": [],
   "source": [
    "coords_array = list_of_arrays[0][0]\n",
    "hull = _prepare_hull(coords_array)"
   ]
  },
  {
   "cell_type": "code",
   "execution_count": 133,
   "metadata": {},
   "outputs": [],
   "source": [
    "one_divided_area = 1/_area(hull)\n",
    "K = kinhoms[2]*one_divided_area"
   ]
  },
  {
   "cell_type": "code",
   "execution_count": 134,
   "metadata": {},
   "outputs": [
    {
     "data": {
      "text/plain": "array([[0.0, array([51.10850107]), array([228.64493825]),\n        array([450.56371662]), array([710.97491915]),\n        array([1058.80543958]), array([1463.03218215]),\n        array([1929.80485671]), array([2454.71889715]),\n        array([3038.98338501])]], dtype=object)"
     },
     "execution_count": 134,
     "metadata": {},
     "output_type": "execute_result"
    }
   ],
   "source": [
    "K"
   ]
  },
  {
   "cell_type": "code",
   "execution_count": 141,
   "metadata": {},
   "outputs": [
    {
     "data": {
      "text/plain": "[<matplotlib.lines.Line2D at 0x14369aaa0>]"
     },
     "execution_count": 141,
     "metadata": {},
     "output_type": "execute_result"
    },
    {
     "data": {
      "image/png": "[encoded data removed]",
      "text/plain": "<Figure size 640x480 with 1 Axes>"
     },
     "metadata": {},
     "output_type": "display_data"
    }
   ],
   "source": [
    "plt.plot(K[0])"
   ]
  },
  {
   "cell_type": "markdown",
   "metadata": {},
   "source": [
    "# Transform to L "
   ]
  },
  {
   "cell_type": "code",
   "execution_count": 135,
   "metadata": {},
   "outputs": [],
   "source": [
    "def L_function(list_of_estimates):\n",
    "    L = [math.sqrt(x/math.pi) for x in list_of_estimates]\n",
    "    return L\n",
    "#kinhom_estimates['l_estimates'] = kinhom_estimates['kinhom_estimate'].apply(L_function)"
   ]
  },
  {
   "cell_type": "code",
   "execution_count": null,
   "metadata": {},
   "outputs": [],
   "source": []
  }
 ],
 "metadata": {
  "kernelspec": {
   "display_name": "Python 3.10.9 64-bit ('paper_3': conda)",
   "name": "python3109jvsc74a57bd09c88df90110bced9cec65b9bdbd3e4c663d10a8b4acefcbcfa76c0bc8c341b4e"
  },
  "language_info": {
   "name": "python",
   "version": ""
  },
  "orig_nbformat": 2
 },
 "nbformat": 4,
 "nbformat_minor": 2
}